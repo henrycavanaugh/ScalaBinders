{
  "cells": [
    {
      "cell_type": "markdown",
      "source": [
        "# Analyzing Ptolemy's geographic data\n",
        "\n",
        "## Overview\n",
        "\n",
        "This notebook will help you adjust Ptolemy's values for longitude and latitude to account for:\n",
        "\n",
        "- his mistakenly small dimension of the earth's circumference\n",
        "- his origin of longitude (ca. 12.8 degrees west of Greenwich)\n",
        "- his use of the \"parallel through Rhodes\" (36 degrees north latitude in Ptolemy's data) as the baseline for computing latitude values.\n"
      ],
      "metadata": {
        "jupyter": {
          "outputs_hidden": false,
          "source_hidden": false
        },
        "nteract": {
          "transient": {
            "deleting": false
          }
        }
      }
    },
    {
      "cell_type": "markdown",
      "source": [
        "## Using your adjusted data in a GIS\n",
        "\n",
        "You could use the contents of this notebook in several ways:\n",
        "\n",
        "1. run as a Jupyter notebook directly (either on mybinder.org, or downloaded and run with software like nteract)\n",
        "2. download the notebook as Scala, open the Scala content in Atom, and run the code directly there.\n",
        "\n",
        "In either case, you will want to write your adjusted data to a `.csv` file you can use directly in a GIS.\n",
        "\n",
        "A Jupyter notebook on mybinder won't have access to your host computer's file system, so you'll have to print out the values in your notebook, and copy and paste them in to a file on your computer.  If you're running the code in a local environment like Atom, you can write the output directly from your Scala code.  The instructions at the end of this notebook will show you how to do both of these things.\n"
      ],
      "metadata": {
        "nteract": {
          "transient": {
            "deleting": false
          }
        }
      }
    },
    {
      "cell_type": "markdown",
      "source": [
        "## Load data for Ptolemy\n",
        "\n",
        "You can use an existing code library to read an XML edition of Ptolemy's *Geography* and extract the 6,000 geographic points into a class of object that will make them straightforward to work with."
      ],
      "metadata": {
        "nteract": {
          "transient": {
            "deleting": false
          }
        }
      }
    },
    {
      "cell_type": "code",
      "source": [
        "// 1. Add two maven maven repositories where we can find our libraries\n",
        "val myBT = coursierapi.MavenRepository.of(\"https://dl.bintray.com/neelsmith/maven\")\n",
        "val beta = coursierapi.MavenRepository.of(\"http://beta.hpcc.uh.edu/nexus/content/groups/public\")\n",
        "interp.repositories() ++= Seq(myBT, beta)\n"
      ],
      "outputs": [
        {
          "output_type": "execute_result",
          "execution_count": 1,
          "data": {
            "text/plain": [
              "\u001b[36mmyBT\u001b[39m: \u001b[32mcoursierapi\u001b[39m.\u001b[32mMavenRepository\u001b[39m = MavenRepository(https://dl.bintray.com/neelsmith/maven)\n",
              "\u001b[36mbeta\u001b[39m: \u001b[32mcoursierapi\u001b[39m.\u001b[32mMavenRepository\u001b[39m = MavenRepository(http://beta.hpcc.uh.edu/nexus/content/groups/public)"
            ]
          },
          "metadata": {}
        }
      ],
      "execution_count": 1,
      "metadata": {
        "jupyter": {
          "outputs_hidden": false,
          "source_hidden": false
        },
        "nteract": {
          "transient": {
            "deleting": false
          }
        },
        "execution": {
          "iopub.status.busy": "2020-04-01T21:08:39.226Z",
          "iopub.execute_input": "2020-04-01T21:08:39.234Z",
          "iopub.status.idle": "2020-04-01T21:08:45.969Z"
        }
      }
    },
    {
      "cell_type": "code",
      "source": [
        "// 2. Make libraries available with `$ivy` imports:\n",
        "import $ivy.`edu.holycross.shot::ptolemy:1.6.0`\n",
        "import scala.xml._"
      ],
      "outputs": [
        {
          "output_type": "execute_result",
          "execution_count": 2,
          "data": {
            "text/plain": [
              "\u001b[32mimport \u001b[39m\u001b[36m$ivy.$                                  \n",
              "\u001b[39m\n",
              "\u001b[32mimport \u001b[39m\u001b[36mscala.xml._\u001b[39m"
            ]
          },
          "metadata": {}
        }
      ],
      "execution_count": 2,
      "metadata": {
        "execution": {
          "iopub.status.busy": "2020-04-01T21:08:45.981Z",
          "iopub.execute_input": "2020-04-01T21:08:45.990Z",
          "iopub.status.idle": "2020-04-01T21:09:01.119Z"
        }
      }
    },
    {
      "cell_type": "code",
      "source": [
        "// read and parse XML file of Ptolemy:\n",
        "val url = \"https://raw.githubusercontent.com/neelsmith/ptolemy/master/tei/tlg0363.tlg009.epist03-p5-u8.xml\"\n",
        "val root = XML.load(url)"
      ],
      "outputs": [
        {
          "output_type": "execute_result",
          "execution_count": 3,
          "data": {
            "text/plain": [
              "\u001b[36murl\u001b[39m: \u001b[32mString\u001b[39m = \u001b[32m\"https://raw.githubusercontent.com/neelsmith/ptolemy/master/tei/tlg0363.tlg009.epist03-p5-u8.xml\"\u001b[39m\n",
              "\u001b[36mroot\u001b[39m: \u001b[32mElem\u001b[39m = <TEI xmlns=\"http://www.tei-c.org/ns/1.0\">\n",
              "    <teiHeader>\n",
              "        <fileDesc>\n",
              "            <titleStmt>\n",
              "                <title>Ptolemy, Geography</title>\n",
              "            </titleStmt>\n",
              "            <publicationStmt>\n",
              "                <p>E-text</p>\n",
              "            </publicationStmt>\n",
              "            <sourceDesc>\n",
              "                <p>Composite based on print editions of Müller and Nobbe.</p>\n",
              "            </sourceDesc>\n",
              "        </fileDesc>\n",
              "        <profileDesc>\n",
              "            <langUsage>\n",
              "                <language ident=\"grc\">Greek</language>\n",
              "                <language ident=\"eng\">English</language>\n",
              "            </langUsage>\n",
              "        </profileDesc>\n",
              "    </teiHeader>\n",
              "    <text>\n",
              "        <body xml:lang=\"grc\">\n",
              "\n",
              "\n",
              "            <interpGrp type=\"continents\">\n",
              "                <interp xml:id=\"Europe\"/>\n",
              "                <interp xml:id=\"Asia\"/>\n",
              "                <interp xml:id=\"Libya\"/>\n",
              "            </interpGrp>\n",
              "\n",
              "            <interpGrp type=\"provinces-satrapies\">\n",
              "                <interp xml:id=\"narbonensis\"/>\n",
              "                <interp xml:id=\"hibernia\"/>\n",
              "                <interp xml:id=\"albion\"/>\n",
              "                <interp xml:id=\"baetica\"/>\n",
              "                <interp xml:id=\"tarraconensis\"/>\n",
              "                <interp xml:id=\"lusitania\"/>\n",
              "                <interp xml:id=\"aquitania\"/>\n",
              "                <interp xml:id=\"lugdunensis\"/>\n",
              "..."
            ]
          },
          "metadata": {}
        }
      ],
      "execution_count": 3,
      "metadata": {
        "execution": {
          "iopub.status.busy": "2020-04-01T21:09:01.132Z",
          "iopub.execute_input": "2020-04-01T21:09:01.141Z",
          "iopub.status.idle": "2020-04-01T21:09:23.191Z"
        }
      }
    },
    {
      "cell_type": "code",
      "source": [
        "// parse XML text into objects\n",
        "import edu.holycross.shot.ptolemy._\n",
        "val geoRecords = TeiParser.geography(root, false)\n",
        "//val ptolemyPoints = delimited.map(ln => PtolemyString(ln))"
      ],
      "outputs": [
        {
          "output_type": "stream",
          "name": "stderr",
          "text": [
            "cmd3.sc:2: value geography is not a member of object edu.holycross.shot.ptolemy.TeiParser\n",
            "val geoRecords = TeiParser.geography(root, false)\n",
            "                           ^Compilation Failed"
          ]
        },
        {
          "output_type": "error",
          "ename": "",
          "evalue": "",
          "traceback": [
            "Compilation Failed"
          ]
        }
      ],
      "execution_count": 4,
      "metadata": {
        "execution": {
          "iopub.status.busy": "2020-04-01T21:09:35.484Z",
          "iopub.execute_input": "2020-04-01T21:09:35.490Z",
          "iopub.status.idle": "2020-03-26T16:21:10.937Z"
        }
      }
    },
    {
      "cell_type": "markdown",
      "source": [
        "Each of the `ptolemyPoints` objects has a `lon` and a `lat` member.\n",
        "\n",
        "Look at the example of a single point in following cell to figure out what class the `lon` and `lat` members belong to."
      ],
      "metadata": {
        "nteract": {
          "transient": {
            "deleting": false
          }
        }
      }
    },
    {
      "cell_type": "code",
      "source": [
        "val firstPoint = geoRecords.head\n",
        "firstPoint.lon\n",
        "firstPoint.lat"
      ],
      "outputs": [],
      "execution_count": null,
      "metadata": {
        "collapsed": false,
        "jupyter": {
          "source_hidden": false,
          "outputs_hidden": false
        },
        "nteract": {
          "transient": {
            "deleting": false
          }
        },
        "execution": {
          "iopub.status.busy": "2020-03-26T16:21:10.946Z",
          "iopub.execute_input": "2020-03-26T16:21:10.951Z",
          "iopub.status.idle": "2020-03-26T16:22:09.109Z"
        }
      }
    },
    {
      "cell_type": "markdown",
      "source": [
        "## 1. Scale the data\n",
        "\n",
        "As you know from your background reading, we will use the ratio of Eratosthenes' figure for the circumference of the earth to Ptolemy's figure to scale the longitude and latitude values down by about 72%."
      ],
      "metadata": {}
    },
    {
      "cell_type": "code",
      "source": [
        "val ratio = 18.0 / 25.0\n",
        "// We'll take one arbitrary point as an example\n",
        "// Here's an example:\n",
        "firstPoint.lon\n",
        "firstPoint.lon * ratio\n",
        "firstPoint.lat\n",
        "firstPoint.lat * ratio\n"
      ],
      "outputs": [],
      "execution_count": null,
      "metadata": {
        "execution": {
          "iopub.status.busy": "2020-03-26T16:22:09.117Z",
          "iopub.execute_input": "2020-03-26T16:22:09.122Z",
          "iopub.status.idle": "2020-03-26T16:25:40.634Z"
        }
      }
    },
    {
      "cell_type": "markdown",
      "source": [
        "\n",
        "\n",
        "To simplify your work, you could work just with the longitude and latitude values for each point.  Scala's case class is a natural way to accomplish that.\n",
        "\n",
        "The following cell defines a class named `GeoPoint` that has three members, plus one function to format the contents as a comma-separated String. It shows how you can create instances of that class."
      ],
      "metadata": {}
    },
    {
      "cell_type": "code",
      "source": [
        "case class GeoPoint (id: String, lon: Double, lat: Double) {\n",
        "    def csv : String = {\n",
        "        id + \",\" + lon + \",\" + lat\n",
        "    }\n",
        "}\n",
        "\n",
        "\n",
        "val firstGeo = GeoPoint(firstPoint.id, firstPoint.lon, firstPoint.lat)"
      ],
      "outputs": [],
      "execution_count": null,
      "metadata": {
        "execution": {
          "iopub.status.busy": "2020-03-26T16:45:51.023Z",
          "iopub.execute_input": "2020-03-26T16:45:51.028Z",
          "iopub.status.idle": "2020-03-26T16:46:03.661Z"
        }
      }
    },
    {
      "cell_type": "markdown",
      "source": [
        "This makes it very straightforward to map the Vector of ptolemy points to a new Vector of `GeoPoint` objects."
      ],
      "metadata": {
        "nteract": {
          "transient": {
            "deleting": false
          }
        }
      }
    },
    {
      "cell_type": "code",
      "source": [
        "val ptolemyGeo = ptolemyPoints.map(pt => GeoPoint(pt.id, pt.lon, pt.lat))"
      ],
      "outputs": [],
      "execution_count": null,
      "metadata": {
        "collapsed": false,
        "jupyter": {
          "source_hidden": false,
          "outputs_hidden": false
        },
        "nteract": {
          "transient": {
            "deleting": false
          }
        },
        "execution": {
          "iopub.status.busy": "2020-03-26T16:46:03.672Z",
          "iopub.execute_input": "2020-03-26T16:46:03.677Z",
          "iopub.status.idle": "2020-03-26T16:46:14.291Z"
        }
      }
    },
    {
      "cell_type": "markdown",
      "source": [
        "If we wanted to create a rescaled version of the first longitude, latitude pair, we could easily do that: "
      ],
      "metadata": {
        "nteract": {
          "transient": {
            "deleting": false
          }
        }
      }
    },
    {
      "cell_type": "code",
      "source": [
        "val firstRescaled = GeoPoint(firstPoint.id, firstPoint.lon * ratio, firstPoint.lat * ratio)"
      ],
      "outputs": [],
      "execution_count": null,
      "metadata": {
        "collapsed": false,
        "jupyter": {
          "source_hidden": false,
          "outputs_hidden": false
        },
        "nteract": {
          "transient": {
            "deleting": false
          }
        },
        "execution": {
          "iopub.status.busy": "2020-03-26T16:46:14.299Z",
          "iopub.execute_input": "2020-03-26T16:46:14.302Z",
          "iopub.status.idle": "2020-03-26T16:46:26.676Z"
        }
      }
    },
    {
      "cell_type": "markdown",
      "source": [
        "### Task: create a Vector of rescaled points\n",
        "\n",
        "Now create a Vector of `GeoPoint` objects.  Verify that you have the same number of them as the size of your original Vector of Ptolemy points."
      ],
      "metadata": {}
    },
    {
      "cell_type": "code",
      "source": [
        "// val ptolemyRescaled = ???"
      ],
      "outputs": [],
      "execution_count": null,
      "metadata": {}
    },
    {
      "cell_type": "markdown",
      "source": [
        "## 2. Adjust origin of longitude\n",
        "\n",
        "Empirical comparison suggests that Ptolemy's origin of longitude was about 12.8 degrees west of Greenwich.\n",
        "\n",
        "The following cell creates a `GeoPoint` adjusting Ptolemy's origin of longitude to align with our origin of longitude.\n"
      ],
      "metadata": {
        "nteract": {
          "transient": {
            "deleting": false
          }
        }
      }
    },
    {
      "cell_type": "code",
      "source": [
        "// negative because Ptolemy's 0 is *west* of Greenwich:\n",
        "val originLongitude = -12.8\n",
        "\n",
        "val firstLonAdjusted = GeoPoint(firstRescaled.id, firstRescaled.lat, firstRescaled.lon + originLongitude)"
      ],
      "outputs": [],
      "execution_count": null,
      "metadata": {
        "collapsed": false,
        "jupyter": {
          "source_hidden": false,
          "outputs_hidden": false
        },
        "nteract": {
          "transient": {
            "deleting": false
          }
        },
        "execution": {
          "iopub.status.busy": "2020-03-26T16:46:26.684Z",
          "iopub.execute_input": "2020-03-26T16:46:26.691Z",
          "iopub.status.idle": "2020-03-26T16:46:37.445Z"
        }
      }
    },
    {
      "cell_type": "markdown",
      "source": [
        "### Task: create a Vector of points with adjusted longitude\n"
      ],
      "metadata": {
        "nteract": {
          "transient": {
            "deleting": false
          }
        }
      }
    },
    {
      "cell_type": "code",
      "source": [
        "// Map your existing ptolemyRescaled Vector:\n",
        "\n",
        "// val ptolemyLonAdjusted = ptolemyScaled.map( pt => ??? )"
      ],
      "outputs": [],
      "execution_count": null,
      "metadata": {
        "collapsed": false,
        "jupyter": {
          "source_hidden": false,
          "outputs_hidden": false
        },
        "nteract": {
          "transient": {
            "deleting": false
          }
        }
      }
    },
    {
      "cell_type": "markdown",
      "source": [
        "## 3. Adjust base of latitude\n",
        "\n",
        "When Ptolemy converted ground distances to spherical coordinates, he did not use the equator (0 degrees of latitude) as his baseline to compute from.  Instead, he used \"the parallel through Rhodes,\" which he gives as 36 degrees north of the equator.  But if we scale his raw value of 36 degrees by the ratio of 18/25, then the baseline he thought was 36 degrees north of the equator was actually less than 26 degrees north of the equator.  We need to *add* to each latitude value this difference (roughly 10 degrees) between the raw value of 36 degrees and the scaled-down value.\n",
        "\n",
        "The following cell shows how to compute that offset value, and apply it to one point."
      ],
      "metadata": {}
    },
    {
      "cell_type": "code",
      "source": [
        "val rhodesRaw = 36.0\n",
        "val rhodesAdjusted = ratio * rhodesRaw\n",
        "val offset = rhodesRaw - rhodesAdjusted\n"
      ],
      "outputs": [],
      "execution_count": null,
      "metadata": {
        "execution": {
          "iopub.status.busy": "2020-03-26T16:38:40.358Z",
          "iopub.execute_input": "2020-03-26T16:38:40.364Z",
          "iopub.status.idle": "2020-03-26T16:40:43.509Z"
        }
      }
    },
    {
      "cell_type": "code",
      "source": [
        "val firstLonLatAdjusted = GeoPoint(firstLonAdjusted.id, firstLonAdjusted.lat + offset, firstLonAdjusted.lon)"
      ],
      "outputs": [],
      "execution_count": null,
      "metadata": {
        "execution": {
          "iopub.status.busy": "2020-03-26T16:46:37.455Z",
          "iopub.execute_input": "2020-03-26T16:46:37.459Z",
          "iopub.status.idle": "2020-03-26T16:45:51.015Z"
        }
      }
    },
    {
      "cell_type": "markdown",
      "source": [
        "### Task: create a Vector of points with all three adjustments"
      ],
      "metadata": {
        "nteract": {
          "transient": {
            "deleting": false
          }
        }
      }
    },
    {
      "cell_type": "code",
      "source": [
        "// Map the existing ptolemyLonAdjusted Vector:\n",
        "\n",
        "// val ptolemyAdjusted = ptolemyLonAdjusted.map(pt => ???)\n",
        "\n",
        "\n",
        "\n"
      ],
      "outputs": [],
      "execution_count": null,
      "metadata": {}
    },
    {
      "cell_type": "markdown",
      "source": [
        "## Get your data into a GIS\n",
        "\n",
        "We'd like to write a file with our data in `.csv` format that a GIS can read.\n",
        "\n",
        "This requires two steps:\n",
        "\n",
        "1. format the Vector of `GeoPoint` objects as csv Strings.\n",
        "2. write the formatted Strings to a file\n",
        "\n",
        "The `csv` method of the `GeoPoint` class will simplify this: we can simply map every `GeoPoint` to the String output of its `csv` method."
      ],
      "metadata": {}
    },
    {
      "cell_type": "code",
      "source": [
        "// val csvVector = ptolemyAdjusted.map(pt => pt.csv)"
      ],
      "outputs": [],
      "execution_count": null,
      "metadata": {
        "collapsed": false,
        "jupyter": {
          "source_hidden": false,
          "outputs_hidden": false
        },
        "nteract": {
          "transient": {
            "deleting": false
          }
        }
      }
    },
    {
      "cell_type": "markdown",
      "source": [
        "Vectors have a handy `mkString` method to make a String out of a Vector.  It takes one parameter:  a String value used to join each element.  The following cell turns the Vector of Strings into a single String with new lines separating the components of the source Vector."
      ],
      "metadata": {
        "nteract": {
          "transient": {
            "deleting": false
          }
        }
      }
    },
    {
      "cell_type": "code",
      "source": [
        "// val csv = csvVector.mkString(\"\\n\")"
      ],
      "outputs": [],
      "execution_count": null,
      "metadata": {
        "collapsed": false,
        "jupyter": {
          "source_hidden": false,
          "outputs_hidden": false
        },
        "nteract": {
          "transient": {
            "deleting": false
          }
        }
      }
    },
    {
      "cell_type": "markdown",
      "source": [
        "We should define a header line to include in our `csv` file:"
      ],
      "metadata": {
        "nteract": {
          "transient": {
            "deleting": false
          }
        }
      }
    },
    {
      "cell_type": "code",
      "source": [
        "val header = \"id,lon,lat\\n\""
      ],
      "outputs": [],
      "execution_count": null,
      "metadata": {
        "collapsed": false,
        "jupyter": {
          "source_hidden": false,
          "outputs_hidden": false
        },
        "nteract": {
          "transient": {
            "deleting": false
          }
        }
      }
    },
    {
      "cell_type": "markdown",
      "source": [
        "### If running locally (e.g., in Atom)\n",
        "\n",
        "`PrintWriter` is a clunky old Java class but if you just clone the code in the following cell, it's easy enough to write your output to a file in your local file system."
      ],
      "metadata": {
        "nteract": {
          "transient": {
            "deleting": false
          }
        }
      }
    },
    {
      "cell_type": "code",
      "source": [
        "import java.io.PrintWriter\n",
        "new PrintWriter(\"ptolemy-output.csv\"){ write(header + csv); close; }"
      ],
      "outputs": [],
      "execution_count": null,
      "metadata": {}
    },
    {
      "cell_type": "markdown",
      "source": [
        "### If running Jupyter notebook on `mybinder.org`\n",
        "\n",
        "If you're running the Jupyter notebook on `mybinder.org`, use `println` to display all values, that you can then (tediously) copy and paste into a text file."
      ],
      "metadata": {}
    },
    {
      "cell_type": "code",
      "source": [
        "println(header + csv)"
      ],
      "outputs": [],
      "execution_count": null,
      "metadata": {}
    },
    {
      "cell_type": "markdown",
      "source": [
        "## Load your CSV file into QGIS and visualize!\n"
      ],
      "metadata": {}
    }
  ],
  "metadata": {
    "kernel_info": {
      "name": "scala212"
    },
    "kernelspec": {
      "display_name": "Scala (2.12)",
      "language": "scala",
      "name": "scala212"
    },
    "language_info": {
      "name": "scala",
      "version": "2.12.10",
      "mimetype": "text/x-scala",
      "file_extension": ".scala",
      "nbconvert_exporter": "script",
      "codemirror_mode": "text/x-scala"
    },
    "nteract": {
      "version": "0.22.4"
    }
  },
  "nbformat": 4,
  "nbformat_minor": 1
}