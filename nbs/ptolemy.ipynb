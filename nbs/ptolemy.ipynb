{
  "cells": [
    {
      "cell_type": "markdown",
      "source": [
        "# Analyzing Ptolemy's geographic data\n",
        "\n",
        "## Overview\n",
        "\n",
        "This notebook will help you adjust Ptolemy's values for longitude and latitude to account for:\n",
        "\n",
        "- his mistakenly small dimension of the earth's circumference\n",
        "- his origin of longitude (ca. 12.8 degrees west of Greenwich)\n",
        "- his use of the \"parallel through Rhodes\" (36 degrees north latitude in Ptolemy's data) as the baseline for computing latitude values.\n"
      ],
      "metadata": {
        "jupyter": {
          "outputs_hidden": false,
          "source_hidden": false
        },
        "nteract": {
          "transient": {
            "deleting": false
          }
        }
      }
    },
    {
      "cell_type": "markdown",
      "source": [
        "## Using your adjusted data in a GIS\n",
        "\n",
        "You could use the contents of this notebook in several ways:\n",
        "\n",
        "1. run as a Jupyter notebook directly (either on mybinder.org, or downloaded and run with software like nteract)\n",
        "2. download the notebook as Scala, open the Scala content in Atom, and run the code directly there.\n",
        "\n",
        "In either case, you will want to write your adjusted data to a `.csv` file you can use directly in a GIS.\n",
        "\n",
        "A Jupyter notebook on mybinder won't have access to your host computer's file system, so you'll have to print out the values in your notebook, and copy and paste them in to a file on your computer.  If you're running the code in a local environment like Atom, you can write the output directly from your Scala code.  The instructions at the end of this notebook will show you how to do both of these things.\n"
      ],
      "metadata": {
        "nteract": {
          "transient": {
            "deleting": false
          }
        }
      }
    },
    {
      "cell_type": "markdown",
      "source": [
        "## Load data for Ptolemy\n",
        "\n",
        "You can use an existing code library to read an XML edition of Ptolemy's *Geography* and extract the 6,000 geographic points into a class of object that will make them straightforward to work with."
      ],
      "metadata": {
        "nteract": {
          "transient": {
            "deleting": false
          }
        }
      }
    },
    {
      "cell_type": "code",
      "source": [
        "// 1. Add maven repository where we can find our libraries\n",
        "val myBT = coursierapi.MavenRepository.of(\"https://dl.bintray.com/neelsmith/maven\")\n",
        "interp.repositories() ++= Seq(myBT)\n"
      ],
      "outputs": [
        {
          "output_type": "execute_result",
          "execution_count": 1,
          "data": {
            "text/plain": [
              "\u001b[36mmyBT\u001b[39m: \u001b[32mcoursierapi\u001b[39m.\u001b[32mMavenRepository\u001b[39m = MavenRepository(https://dl.bintray.com/neelsmith/maven)"
            ]
          },
          "metadata": {}
        }
      ],
      "execution_count": 1,
      "metadata": {
        "jupyter": {
          "outputs_hidden": false,
          "source_hidden": false
        },
        "nteract": {
          "transient": {
            "deleting": false
          }
        },
        "execution": {
          "iopub.status.busy": "2020-03-26T16:17:39.556Z",
          "iopub.execute_input": "2020-03-26T16:17:39.561Z",
          "iopub.status.idle": "2020-03-26T16:17:48.334Z"
        }
      }
    },
    {
      "cell_type": "code",
      "source": [
        "// 2. Make libraries available with `$ivy` imports:\n",
        "import $ivy.`edu.holycross.shot::ptolemy:1.2.1`\n",
        "import scala.xml._"
      ],
      "outputs": [
        {
          "output_type": "execute_result",
          "execution_count": 2,
          "data": {
            "text/plain": [
              "\u001b[32mimport \u001b[39m\u001b[36m$ivy.$                                  \n",
              "\u001b[39m\n",
              "\u001b[32mimport \u001b[39m\u001b[36mscala.xml._\u001b[39m"
            ]
          },
          "metadata": {}
        }
      ],
      "execution_count": 2,
      "metadata": {
        "execution": {
          "iopub.status.busy": "2020-03-26T16:17:48.341Z",
          "iopub.execute_input": "2020-03-26T16:17:48.345Z",
          "iopub.status.idle": "2020-03-26T16:18:07.147Z"
        }
      }
    },
    {
      "cell_type": "code",
      "source": [
        "// read and parse XML file of Ptolemy:\n",
        "val url = \"https://raw.githubusercontent.com/neelsmith/ptolemy/master/tei/tlg0363.tlg009.epist03-p5-u8.xml\"\n",
        "val root = XML.load(url)"
      ],
      "outputs": [
        {
          "output_type": "execute_result",
          "execution_count": 3,
          "data": {
            "text/plain": [
              "\u001b[36murl\u001b[39m: \u001b[32mString\u001b[39m = \u001b[32m\"https://raw.githubusercontent.com/neelsmith/ptolemy/master/tei/tlg0363.tlg009.epist03-p5-u8.xml\"\u001b[39m\n",
              "\u001b[36mroot\u001b[39m: \u001b[32mElem\u001b[39m = <TEI xmlns=\"http://www.tei-c.org/ns/1.0\">\n",
              "    <teiHeader>\n",
              "        <fileDesc>\n",
              "            <titleStmt>\n",
              "                <title>Ptolemy, Geography</title>\n",
              "            </titleStmt>\n",
              "            <publicationStmt>\n",
              "                <p>E-text</p>\n",
              "            </publicationStmt>\n",
              "            <sourceDesc>\n",
              "                <p>Composite based on print editions of Müller and Nobbe.</p>\n",
              "            </sourceDesc>\n",
              "        </fileDesc>\n",
              "        <profileDesc>\n",
              "            <langUsage>\n",
              "                <language ident=\"grc\">Greek</language>\n",
              "                <language ident=\"eng\">English</language>\n",
              "            </langUsage>\n",
              "        </profileDesc>\n",
              "    </teiHeader>\n",
              "    <text>\n",
              "        <body xml:lang=\"grc\">\n",
              "\n",
              "\n",
              "            <interpGrp type=\"continents\">\n",
              "                <interp xml:id=\"Europe\"/>\n",
              "                <interp xml:id=\"Asia\"/>\n",
              "                <interp xml:id=\"Libya\"/>\n",
              "            </interpGrp>\n",
              "\n",
              "            <interpGrp type=\"provinces-satrapies\">\n",
              "                <interp xml:id=\"narbonensis\"/>\n",
              "                <interp xml:id=\"hibernia\"/>\n",
              "                <interp xml:id=\"albion\"/>\n",
              "                <interp xml:id=\"baetica\"/>\n",
              "                <interp xml:id=\"tarraconensis\"/>\n",
              "                <interp xml:id=\"lusitania\"/>\n",
              "                <interp xml:id=\"aquitania\"/>\n",
              "                <interp xml:id=\"lugdunensis\"/>\n",
              "..."
            ]
          },
          "metadata": {}
        }
      ],
      "execution_count": 3,
      "metadata": {
        "execution": {
          "iopub.status.busy": "2020-03-26T16:18:07.162Z",
          "iopub.execute_input": "2020-03-26T16:18:07.167Z",
          "iopub.status.idle": "2020-03-26T16:18:32.125Z"
        }
      }
    },
    {
      "cell_type": "code",
      "source": [
        "// parse XML text into objects\n",
        "import edu.holycross.shot.ptolemy._\n",
        "val delimited = TeiParser.parseTEI(root, false)\n",
        "val ptolemyPoints = delimited.map(ln => PtolemyString(ln))"
      ],
      "outputs": [
        {
          "output_type": "stream",
          "name": "stderr",
          "text": [
            "\u001b[34m2020-03-26 12:18:36.172-0400\u001b[0m \u001b[31merror\u001b[0m [\u001b[37mTeiParser\u001b[0m] \u001b[31mNo name element in \u001b[0m  \u001b[34m- (TeiParser.scala:98)\u001b[0m\n",
            "\u001b[34m2020-03-26 12:18:36.196-0400\u001b[0m \u001b[31merror\u001b[0m [\u001b[37mTeiParser\u001b[0m] \u001b[31mNo name element in \u001b[0m  \u001b[34m- (TeiParser.scala:98)\u001b[0m\n",
            "\u001b[34m2020-03-26 12:18:36.196-0400\u001b[0m \u001b[31merror\u001b[0m [\u001b[37mTeiParser\u001b[0m] \u001b[31mNo name element in \u001b[0m  \u001b[34m- (TeiParser.scala:98)\u001b[0m\n",
            "\u001b[34m2020-03-26 12:18:36.197-0400\u001b[0m \u001b[31merror\u001b[0m [\u001b[37mTeiParser\u001b[0m] \u001b[31mNo name element in \u001b[0m  \u001b[34m- (TeiParser.scala:98)\u001b[0m\n"
          ]
        },
        {
          "output_type": "execute_result",
          "execution_count": 4,
          "data": {
            "text/plain": [
              "\u001b[32mimport \u001b[39m\u001b[36medu.holycross.shot.ptolemy._\n",
              "\u001b[39m\n",
              "\u001b[36mdelimited\u001b[39m: \u001b[32mVector\u001b[39m[\u001b[32mString\u001b[39m] = \u001b[33mVector\u001b[39m(\n",
              "  \u001b[32m\"2.2.1#Europe#hibernia#paralios#pt_ll_1#\\u0392\\u1f79\\u03c1\\u03b5\\u03b9\\u03bf\\u03bd \\u1f04\\u03ba\\u03c1\\u03bf\\u03bd#\\u03b9\\u03b1\\u02b9#\\u03be\\u03b1\\u02b9#11.0#11#0.0#61.0#61#0.0\"\u001b[39m,\n",
              "  \u001b[32m\"2.2.1#Europe#hibernia#paralios#pt_ll_2#\\u039f\\u1f50\\u03b5\\u03bd\\u03bd\\u1f77\\u03ba\\u03bd\\u03b9\\u03bf\\u03bd \\u1f04\\u03ba\\u03c1\\u03bf\\u03bd#\\u03b9\\u03b2\\u02b9\\u03b2  \\u03b3\\\"#\\u03be\\u03b1\\u02b9\\u03b3\\\"#12.833#12#0.833#61.333#61#0.333\"\u001b[39m,\n",
              "  \u001b[32m\"2.2.1#Europe#hibernia#paralios#pt_ll_3#\\u039f\\u1f50\\u03b9\\u03b4\\u03bf\\u1f7b\\u03b1 \\u03c0\\u03bf\\u03c4\\u03b1\\u03bc\\u03bf\\u1fe6 \\u1f10\\u03ba\\u03b2\\u03bf\\u03bb\\u03b1\\u1f77#\\u03b9\\u03b3\\u02b9#\\u03be\\u03b1\\u02b9#13.0#13#0.0#61.0#61#0.0\"\u001b[39m,\n",
              "  \u001b[32m\"2.2.1#Europe#hibernia#paralios#pt_ll_4#\\u1f08\\u03c1\\u03b3\\u1f77\\u03c4\\u03b1 \\u03c0\\u03bf\\u03c4\\u03b1\\u03bc\\u03bf\\u1fe6 \\u1f10\\u03ba\\u03b2\\u03bf\\u03bb\\u03b1\\u1f77#\\u03b9\\u03b4\\u02b9\\u03b2\\\"#\\u03be\\u03b1\\u02b9\\u03b2\\\"#14.5#14#0.5#61.5#61#0.5\"\u001b[39m,\n",
              "  \u001b[32m\"2.2.1#Europe#hibernia#paralios#pt_ll_5#\\u1fec\\u03bf\\u03b2\\u1f79\\u03b3\\u03b4\\u03b9\\u03bf\\u03bd \\u1f04\\u03ba\\u03c1\\u03bf\\u03bd#\\u03b9\\u03db\\u02b9\\u03b3\\\"#\\u03be\\u03b1\\u02b9\\u03b2\\\"#16.333#16#0.333#61.5#61#0.5\"\u001b[39m,\n",
              "  \u001b[32m\"2.2.3#Europe#hibernia#paralios#pt_ll_6# \\u03c4\\u1f78 \\u0392\\u1f79\\u03c1\\u03b5\\u03b9\\u03bf\\u03bd \\u1f04\\u03ba\\u03c1\\u03bf\\u03bd#\\u03b9\\u03b1\\u02b9#\\u03be\\u03b1\\u02b9#11.0#11#0.0#61.0#61#0.0\"\u001b[39m,\n",
              "  \u001b[32m\"2.2.3#Europe#hibernia#paralios#pt_ll_7#\\u1fec\\u03b1\\u03bf\\u03c5\\u1f77\\u03bf\\u03c5 \\u03c0\\u03bf\\u03c4\\u03b1\\u03bc\\u03bf\\u1fe6 \\u1f10\\u03ba\\u03b2\\u03bf\\u03bb\\u03b1\\u1f77#\\u03b9\\u03b1\\u02b9\\u03b3\\\"#\\u03be\\u02b9\\u03b2 \\u03db\\\"#11.333#11#0.333#60.667#60#0.667\"\u001b[39m,\n",
              "  \u001b[32m\"2.2.3#Europe#hibernia#paralios#pt_ll_8#\\u039c\\u1f71\\u03b3\\u03bd\\u03b1\\u03c4\\u03b1 \\u03c0\\u1f79\\u03bb\\u03b9\\u03c2 [\\u1f10\\u03c0\\u1f77\\u03c3\\u03b7\\u03bc\\u03bf\\u03c2]#\\u03b9\\u03b1\\u02b9\\u03b4\\\"#\\u03be\\u02b9\\u03b4\\\"#11.25#11#0.25#60.25#60#0.25\"\u001b[39m,\n",
              "  \u001b[32m\"2.2.3#Europe#hibernia#paralios#pt_ll_9#\\u039b\\u03b9\\u03b2\\u03bd\\u1f77\\u03bf\\u03c5 \\u03c0\\u03bf\\u03c4\\u03b1\\u03bc\\u03bf\\u1fe6 \\u1f10\\u03ba\\u03b2\\u03bf\\u03bb\\u03b1\\u1f77#\\u03b9\\u02b9\\u03b2\\\"#\\u03be\\u02b9#10.5#10#0.5#60.0#60#0.0\"\u001b[39m,\n",
              "  \u001b[32m\"2.2.3#Europe#hibernia#paralios#pt_ll_10#\\u0391\\u1f50\\u03c3\\u1f79\\u03b2\\u03b1 \\u03c0\\u03bf\\u03c4\\u03b1\\u03bc\\u03bf\\u1fe6 \\u1f10\\u03ba\\u03b2\\u03bf\\u03bb\\u03b1\\u1f77#\\u03b9\\u02b9\\u03b2\\\"#\\u03bd\\u03b8\\u02b9\\u03b2\\\"#10.5#10#0.5#59.5#59#0.5\"\u001b[39m,\n",
              "  \u001b[32m\"2.2.3#Europe#hibernia#paralios#pt_ll_11#\\u03a3\\u1f75\\u03bd\\u03bf\\u03c5 \\u03c0\\u03bf\\u03c4\\u03b1\\u03bc\\u03bf\\u1fe6 \\u1f10\\u03ba\\u03b2\\u03bf\\u03bb\\u03b1\\u1f77#\\u03b8\\u02b9\\u03b2\\\"#\\u03bd\\u03b8\\u02b9\\u03b2\\\"#9.5#9#0.5#59.5#59#0.5\"\u001b[39m,\n",
              "  \u001b[32m\"2.2.3#Europe#hibernia#paralios#pt_ll_12#\\u0394\\u03bf\\u1f7a\\u03c1 \\u03c0\\u03bf\\u03c4\\u03b1\\u03bc\\u03bf\\u1fe6 \\u1f10\\u03ba\\u03b2\\u03bf\\u03bb\\u03b1\\u1f77#\\u03b8\u001b[39m...\n",
              "\u001b[36mptolemyPoints\u001b[39m: \u001b[32mVector\u001b[39m[\u001b[32mPtolemyString\u001b[39m] = \u001b[33mVector\u001b[39m(\n",
              "  \u001b[33mPtolemyString\u001b[39m(\n",
              "    \u001b[32m\"2.2.1\"\u001b[39m,\n",
              "    \u001b[32m\"Europe\"\u001b[39m,\n",
              "    \u001b[32m\"hibernia\"\u001b[39m,\n",
              "    \u001b[32m\"paralios\"\u001b[39m,\n",
              "    \u001b[32m\"pt_ll_1\"\u001b[39m,\n",
              "    \u001b[32m\"\\u0392\\u1f79\\u03c1\\u03b5\\u03b9\\u03bf\\u03bd \\u1f04\\u03ba\\u03c1\\u03bf\\u03bd\"\u001b[39m,\n",
              "    \u001b[32m\"\\u03b9\\u03b1\\u02b9\"\u001b[39m,\n",
              "    \u001b[32m\"\\u03be\\u03b1\\u02b9\"\u001b[39m,\n",
              "    \u001b[32m11.0\u001b[39m,\n",
              "    \u001b[32m\"11\"\u001b[39m,\n",
              "    \u001b[32m\"0.0\"\u001b[39m,\n",
              "    \u001b[32m11.0\u001b[39m,\n",
              "    \u001b[32m\"61\"\u001b[39m,\n",
              "    \u001b[32m\"0.0\"\u001b[39m\n",
              "  ),\n",
              "  \u001b[33mPtolemyString\u001b[39m(\n",
              "    \u001b[32m\"2.2.1\"\u001b[39m,\n",
              "    \u001b[32m\"Europe\"\u001b[39m,\n",
              "    \u001b[32m\"hibernia\"\u001b[39m,\n",
              "    \u001b[32m\"paralios\"\u001b[39m,\n",
              "    \u001b[32m\"pt_ll_2\"\u001b[39m,\n",
              "    \u001b[32m\"\\u039f\\u1f50\\u03b5\\u03bd\\u03bd\\u1f77\\u03ba\\u03bd\\u03b9\\u03bf\\u03bd \\u1f04\\u03ba\\u03c1\\u03bf\\u03bd\"\u001b[39m,\n",
              "    \u001b[32m\"\\u03b9\\u03b2\\u02b9\\u03b2  \\u03b3\\\"\"\u001b[39m,\n",
              "    \u001b[32m\"\\u03be\\u03b1\\u02b9\\u03b3\\\"\"\u001b[39m,\n",
              "    \u001b[32m12.833\u001b[39m,\n",
              "    \u001b[32m\"12\"\u001b[39m,\n",
              "    \u001b[32m\"0.833\"\u001b[39m,\n",
              "    \u001b[32m12.0\u001b[39m,\n",
              "    \u001b[32m\"61\"\u001b[39m,\n",
              "    \u001b[32m\"0.333\"\u001b[39m\n",
              "  ),\n",
              "  \u001b[33mPtolemyString\u001b[39m(\n",
              "    \u001b[32m\"2.2.1\"\u001b[39m,\n",
              "    \u001b[32m\"Europe\"\u001b[39m,\n",
              "    \u001b[32m\"hibernia\"\u001b[39m,\n",
              "    \u001b[32m\"paralios\"\u001b[39m,\n",
              "..."
            ]
          },
          "metadata": {}
        }
      ],
      "execution_count": 4,
      "metadata": {
        "execution": {
          "iopub.status.busy": "2020-03-26T16:18:32.135Z",
          "iopub.execute_input": "2020-03-26T16:18:32.141Z",
          "iopub.status.idle": "2020-03-26T16:21:10.937Z"
        }
      }
    },
    {
      "cell_type": "markdown",
      "source": [
        "Each of the `ptolemyPoints` objects has a `lon` and a `lat` member.\n",
        "\n",
        "Look at the example of a single point in following cell to figure out what class the `lon` and `lat` members belong to."
      ],
      "metadata": {
        "nteract": {
          "transient": {
            "deleting": false
          }
        }
      }
    },
    {
      "cell_type": "code",
      "source": [
        "val firstPoint = ptolemyPoints(0)\n",
        "firstPoint.lon\n",
        "firstPoint.lat"
      ],
      "outputs": [
        {
          "output_type": "execute_result",
          "execution_count": 5,
          "data": {
            "text/plain": [
              "\u001b[36mfirstPoint\u001b[39m: \u001b[32mPtolemyString\u001b[39m = \u001b[33mPtolemyString\u001b[39m(\n",
              "  \u001b[32m\"2.2.1\"\u001b[39m,\n",
              "  \u001b[32m\"Europe\"\u001b[39m,\n",
              "  \u001b[32m\"hibernia\"\u001b[39m,\n",
              "  \u001b[32m\"paralios\"\u001b[39m,\n",
              "  \u001b[32m\"pt_ll_1\"\u001b[39m,\n",
              "  \u001b[32m\"\\u0392\\u1f79\\u03c1\\u03b5\\u03b9\\u03bf\\u03bd \\u1f04\\u03ba\\u03c1\\u03bf\\u03bd\"\u001b[39m,\n",
              "  \u001b[32m\"\\u03b9\\u03b1\\u02b9\"\u001b[39m,\n",
              "  \u001b[32m\"\\u03be\\u03b1\\u02b9\"\u001b[39m,\n",
              "  \u001b[32m11.0\u001b[39m,\n",
              "  \u001b[32m\"11\"\u001b[39m,\n",
              "  \u001b[32m\"0.0\"\u001b[39m,\n",
              "  \u001b[32m11.0\u001b[39m,\n",
              "  \u001b[32m\"61\"\u001b[39m,\n",
              "  \u001b[32m\"0.0\"\u001b[39m\n",
              ")\n",
              "\u001b[36mres4_1\u001b[39m: \u001b[32mDouble\u001b[39m = \u001b[32m11.0\u001b[39m\n",
              "\u001b[36mres4_2\u001b[39m: \u001b[32mDouble\u001b[39m = \u001b[32m11.0\u001b[39m"
            ]
          },
          "metadata": {}
        }
      ],
      "execution_count": 5,
      "metadata": {
        "collapsed": false,
        "jupyter": {
          "source_hidden": false,
          "outputs_hidden": false
        },
        "nteract": {
          "transient": {
            "deleting": false
          }
        },
        "execution": {
          "iopub.status.busy": "2020-03-26T16:21:10.946Z",
          "iopub.execute_input": "2020-03-26T16:21:10.951Z",
          "iopub.status.idle": "2020-03-26T16:22:09.109Z"
        }
      }
    },
    {
      "cell_type": "markdown",
      "source": [
        "## 1. Scale the data\n",
        "\n",
        "As you know from your background reading, we will use the ratio of Eratosthenes' figure for the circumference of the earth to Ptolemy's figure to scale the longitude and latitude values down by about 72%."
      ],
      "metadata": {}
    },
    {
      "cell_type": "code",
      "source": [
        "val ratio = 18.0 / 25.0\n",
        "// We'll take one arbitrary point as an example\n",
        "// Here's an example:\n",
        "firstPoint.lon\n",
        "firstPoint.lon * ratio\n",
        "firstPoint.lat\n",
        "firstPoint.lat * ratio\n"
      ],
      "outputs": [
        {
          "output_type": "execute_result",
          "execution_count": 6,
          "data": {
            "text/plain": [
              "\u001b[36mratio\u001b[39m: \u001b[32mDouble\u001b[39m = \u001b[32m0.72\u001b[39m\n",
              "\u001b[36mres5_1\u001b[39m: \u001b[32mDouble\u001b[39m = \u001b[32m11.0\u001b[39m\n",
              "\u001b[36mres5_2\u001b[39m: \u001b[32mDouble\u001b[39m = \u001b[32m7.92\u001b[39m\n",
              "\u001b[36mres5_3\u001b[39m: \u001b[32mDouble\u001b[39m = \u001b[32m11.0\u001b[39m\n",
              "\u001b[36mres5_4\u001b[39m: \u001b[32mDouble\u001b[39m = \u001b[32m7.92\u001b[39m"
            ]
          },
          "metadata": {}
        }
      ],
      "execution_count": 6,
      "metadata": {
        "execution": {
          "iopub.status.busy": "2020-03-26T16:22:09.117Z",
          "iopub.execute_input": "2020-03-26T16:22:09.122Z",
          "iopub.status.idle": "2020-03-26T16:25:40.634Z"
        }
      }
    },
    {
      "cell_type": "markdown",
      "source": [
        "\n",
        "\n",
        "To simplify your work, you could work just with the longitude and latitude values for each point.  Scala's case class is a natural way to accomplish that.\n",
        "\n",
        "The following cell defines a class named `GeoPoint` that has three members, plus one function to format the contents as a comma-separated String. It shows how you can create instances of that class."
      ],
      "metadata": {}
    },
    {
      "cell_type": "code",
      "source": [
        "case class GeoPoint (id: String, lon: Double, lat: Double) {\n",
        "    def csv : String = {\n",
        "        id + \",\" + lon + \",\" + lat\n",
        "    }\n",
        "}\n",
        "\n",
        "\n",
        "val firstGeo = GeoPoint(firstPoint.id, firstPoint.lon, firstPoint.lat)"
      ],
      "outputs": [
        {
          "output_type": "execute_result",
          "execution_count": 13,
          "data": {
            "text/plain": [
              "defined \u001b[32mclass\u001b[39m \u001b[36mGeoPoint\u001b[39m\n",
              "\u001b[36mfirstGeo\u001b[39m: \u001b[32mGeoPoint\u001b[39m = \u001b[33mGeoPoint\u001b[39m(\u001b[32m\"pt_ll_1\"\u001b[39m, \u001b[32m11.0\u001b[39m, \u001b[32m11.0\u001b[39m)"
            ]
          },
          "metadata": {}
        }
      ],
      "execution_count": 13,
      "metadata": {
        "execution": {
          "iopub.status.busy": "2020-03-26T16:45:51.023Z",
          "iopub.execute_input": "2020-03-26T16:45:51.028Z",
          "iopub.status.idle": "2020-03-26T16:46:03.661Z"
        }
      }
    },
    {
      "cell_type": "markdown",
      "source": [
        "This makes it very straightforward to map the Vector of ptolemy points to a new Vector of `GeoPoint` objects."
      ],
      "metadata": {
        "nteract": {
          "transient": {
            "deleting": false
          }
        }
      }
    },
    {
      "cell_type": "code",
      "source": [
        "val ptolemyGeo = ptolemyPoints.map(pt => GeoPoint(pt.id, pt.lon, pt.lat))"
      ],
      "outputs": [
        {
          "output_type": "execute_result",
          "execution_count": 14,
          "data": {
            "text/plain": [
              "\u001b[36mptolemyGeo\u001b[39m: \u001b[32mVector\u001b[39m[\u001b[32mGeoPoint\u001b[39m] = \u001b[33mVector\u001b[39m(\n",
              "  \u001b[33mGeoPoint\u001b[39m(\u001b[32m\"pt_ll_1\"\u001b[39m, \u001b[32m11.0\u001b[39m, \u001b[32m11.0\u001b[39m),\n",
              "  \u001b[33mGeoPoint\u001b[39m(\u001b[32m\"pt_ll_2\"\u001b[39m, \u001b[32m12.833\u001b[39m, \u001b[32m12.0\u001b[39m),\n",
              "  \u001b[33mGeoPoint\u001b[39m(\u001b[32m\"pt_ll_3\"\u001b[39m, \u001b[32m13.0\u001b[39m, \u001b[32m13.0\u001b[39m),\n",
              "  \u001b[33mGeoPoint\u001b[39m(\u001b[32m\"pt_ll_4\"\u001b[39m, \u001b[32m14.5\u001b[39m, \u001b[32m14.0\u001b[39m),\n",
              "  \u001b[33mGeoPoint\u001b[39m(\u001b[32m\"pt_ll_5\"\u001b[39m, \u001b[32m16.333\u001b[39m, \u001b[32m16.0\u001b[39m),\n",
              "  \u001b[33mGeoPoint\u001b[39m(\u001b[32m\"pt_ll_6\"\u001b[39m, \u001b[32m11.0\u001b[39m, \u001b[32m11.0\u001b[39m),\n",
              "  \u001b[33mGeoPoint\u001b[39m(\u001b[32m\"pt_ll_7\"\u001b[39m, \u001b[32m11.333\u001b[39m, \u001b[32m11.0\u001b[39m),\n",
              "  \u001b[33mGeoPoint\u001b[39m(\u001b[32m\"pt_ll_8\"\u001b[39m, \u001b[32m11.25\u001b[39m, \u001b[32m11.0\u001b[39m),\n",
              "  \u001b[33mGeoPoint\u001b[39m(\u001b[32m\"pt_ll_9\"\u001b[39m, \u001b[32m10.5\u001b[39m, \u001b[32m10.0\u001b[39m),\n",
              "  \u001b[33mGeoPoint\u001b[39m(\u001b[32m\"pt_ll_10\"\u001b[39m, \u001b[32m10.5\u001b[39m, \u001b[32m10.0\u001b[39m),\n",
              "  \u001b[33mGeoPoint\u001b[39m(\u001b[32m\"pt_ll_11\"\u001b[39m, \u001b[32m9.5\u001b[39m, \u001b[32m9.0\u001b[39m),\n",
              "  \u001b[33mGeoPoint\u001b[39m(\u001b[32m\"pt_ll_12\"\u001b[39m, \u001b[32m9.667\u001b[39m, \u001b[32m9.0\u001b[39m),\n",
              "  \u001b[33mGeoPoint\u001b[39m(\u001b[32m\"pt_ll_13\"\u001b[39m, \u001b[32m8.0\u001b[39m, \u001b[32m8.0\u001b[39m),\n",
              "  \u001b[33mGeoPoint\u001b[39m(\u001b[32m\"pt_ll_14\"\u001b[39m, \u001b[32m7.667\u001b[39m, \u001b[32m7.0\u001b[39m),\n",
              "  \u001b[33mGeoPoint\u001b[39m(\u001b[32m\"pt_ll_15\"\u001b[39m, \u001b[32m7.667\u001b[39m, \u001b[32m7.0\u001b[39m),\n",
              "  \u001b[33mGeoPoint\u001b[39m(\u001b[32m\"pt_ll_16\"\u001b[39m, \u001b[32m11.25\u001b[39m, \u001b[32m11.0\u001b[39m),\n",
              "  \u001b[33mGeoPoint\u001b[39m(\u001b[32m\"pt_ll_17\"\u001b[39m, \u001b[32m12.5\u001b[39m, \u001b[32m12.0\u001b[39m),\n",
              "  \u001b[33mGeoPoint\u001b[39m(\u001b[32m\"pt_ll_18\"\u001b[39m, \u001b[32m14.0\u001b[39m, \u001b[32m14.0\u001b[39m),\n",
              "  \u001b[33mGeoPoint\u001b[39m(\u001b[32m\"pt_ll_19\"\u001b[39m, \u001b[32m14.0\u001b[39m, \u001b[32m14.0\u001b[39m),\n",
              "  \u001b[33mGeoPoint\u001b[39m(\u001b[32m\"pt_ll_20\"\u001b[39m, \u001b[32m13.667\u001b[39m, \u001b[32m13.0\u001b[39m),\n",
              "  \u001b[33mGeoPoint\u001b[39m(\u001b[32m\"pt_ll_21\"\u001b[39m, \u001b[32m13.5\u001b[39m, \u001b[32m13.0\u001b[39m),\n",
              "  \u001b[33mGeoPoint\u001b[39m(\u001b[32m\"pt_ll_22\"\u001b[39m, \u001b[32m13.167\u001b[39m, \u001b[32m13.0\u001b[39m),\n",
              "  \u001b[33mGeoPoint\u001b[39m(\u001b[32m\"pt_ll_23\"\u001b[39m, \u001b[32m14.0\u001b[39m, \u001b[32m14.0\u001b[39m),\n",
              "  \u001b[33mGeoPoint\u001b[39m(\u001b[32m\"pt_ll_24\"\u001b[39m, \u001b[32m14.667\u001b[39m, \u001b[32m14.0\u001b[39m),\n",
              "  \u001b[33mGeoPoint\u001b[39m(\u001b[32m\"pt_ll_25\"\u001b[39m, \u001b[32m15.0\u001b[39m, \u001b[32m15.0\u001b[39m),\n",
              "  \u001b[33mGeoPoint\u001b[39m(\u001b[32m\"pt_ll_26\"\u001b[39m, \u001b[32m15.0\u001b[39m, \u001b[32m15.0\u001b[39m),\n",
              "  \u001b[33mGeoPoint\u001b[39m(\u001b[32m\"pt_ll_27\"\u001b[39m, \u001b[32m15.333\u001b[39m, \u001b[32m15.0\u001b[39m),\n",
              "  \u001b[33mGeoPoint\u001b[39m(\u001b[32m\"pt_ll_28\"\u001b[39m, \u001b[32m13.0\u001b[39m, \u001b[32m13.0\u001b[39m),\n",
              "  \u001b[33mGeoPoint\u001b[39m(\u001b[32m\"pt_ll_29\"\u001b[39m, \u001b[32m12.0\u001b[39m, \u001b[32m12.0\u001b[39m),\n",
              "  \u001b[33mGeoPoint\u001b[39m(\u001b[32m\"pt_ll_30\"\u001b[39m, \u001b[32m13.0\u001b[39m, \u001b[32m13.0\u001b[39m),\n",
              "  \u001b[33mGeoPoint\u001b[39m(\u001b[32m\"pt_ll_31\"\u001b[39m, \u001b[32m11.5\u001b[39m, \u001b[32m11.0\u001b[39m),\n",
              "  \u001b[33mGeoPoint\u001b[39m(\u001b[32m\"pt_ll_32\"\u001b[39m, \u001b[32m11.0\u001b[39m, \u001b[32m11.0\u001b[39m),\n",
              "  \u001b[33mGeoPoint\u001b[39m(\u001b[32m\"pt_ll_33\"\u001b[39m, \u001b[32m12.5\u001b[39m, \u001b[32m12.0\u001b[39m),\n",
              "  \u001b[33mGeoPoint\u001b[39m(\u001b[32m\"pt_ll_34\"\u001b[39m, \u001b[32m11.0\u001b[39m, \u001b[32m11.0\u001b[39m),\n",
              "  \u001b[33mGeoPoint\u001b[39m(\u001b[32m\"pt_ll_35\"\u001b[39m, \u001b[32m15.0\u001b[39m, \u001b[32m15.0\u001b[39m),\n",
              "  \u001b[33mGeoPoint\u001b[39m(\u001b[32m\"pt_ll_5143\"\u001b[39m, \u001b[32m15.667\u001b[39m, \u001b[32m15.0\u001b[39m),\n",
              "  \u001b[33mGeoPoint\u001b[39m(\u001b[32m\"pt_ll_36\"\u001b[39m, \u001b[32m17.0\u001b[39m, \u001b[32m17.0\u001b[39m),\n",
              "  \u001b[33mGeoPoint\u001b[39m(\u001b[32m\"pt_ll_37\"\u001b[39m, \u001b[32m17.5\u001b[39m, \u001b[32m17.0\u001b[39m),\n",
              "..."
            ]
          },
          "metadata": {}
        }
      ],
      "execution_count": 14,
      "metadata": {
        "collapsed": false,
        "jupyter": {
          "source_hidden": false,
          "outputs_hidden": false
        },
        "nteract": {
          "transient": {
            "deleting": false
          }
        },
        "execution": {
          "iopub.status.busy": "2020-03-26T16:46:03.672Z",
          "iopub.execute_input": "2020-03-26T16:46:03.677Z",
          "iopub.status.idle": "2020-03-26T16:46:14.291Z"
        }
      }
    },
    {
      "cell_type": "markdown",
      "source": [
        "If we wanted to create a rescaled version of the first longitude, latitude pair, we could easily do that: "
      ],
      "metadata": {
        "nteract": {
          "transient": {
            "deleting": false
          }
        }
      }
    },
    {
      "cell_type": "code",
      "source": [
        "val firstRescaled = GeoPoint(firstPoint.id, firstPoint.lon * ratio, firstPoint.lat * ratio)"
      ],
      "outputs": [
        {
          "output_type": "execute_result",
          "execution_count": 15,
          "data": {
            "text/plain": [
              "\u001b[36mfirstRescaled\u001b[39m: \u001b[32mGeoPoint\u001b[39m = \u001b[33mGeoPoint\u001b[39m(\u001b[32m\"pt_ll_1\"\u001b[39m, \u001b[32m7.92\u001b[39m, \u001b[32m7.92\u001b[39m)"
            ]
          },
          "metadata": {}
        }
      ],
      "execution_count": 15,
      "metadata": {
        "collapsed": false,
        "jupyter": {
          "source_hidden": false,
          "outputs_hidden": false
        },
        "nteract": {
          "transient": {
            "deleting": false
          }
        },
        "execution": {
          "iopub.status.busy": "2020-03-26T16:46:14.299Z",
          "iopub.execute_input": "2020-03-26T16:46:14.302Z",
          "iopub.status.idle": "2020-03-26T16:46:26.676Z"
        }
      }
    },
    {
      "cell_type": "markdown",
      "source": [
        "### Task: create a Vector of rescaled points\n",
        "\n",
        "Now create a Vector of `GeoPoint` objects.  Verify that you have the same number of them as the size of your original Vector of Ptolemy points."
      ],
      "metadata": {}
    },
    {
      "cell_type": "code",
      "source": [
        "// val ptolemyRescaled = ???"
      ],
      "outputs": [],
      "execution_count": null,
      "metadata": {}
    },
    {
      "cell_type": "markdown",
      "source": [
        "## 2. Adjust origin of longitude\n",
        "\n",
        "Empirical comparison suggests that Ptolemy's origin of longitude was about 12.8 degrees west of Greenwich.\n",
        "\n",
        "The following cell creates a `GeoPoint` adjusting Ptolemy's origin of longitude to align with our origin of longitude.\n"
      ],
      "metadata": {
        "nteract": {
          "transient": {
            "deleting": false
          }
        }
      }
    },
    {
      "cell_type": "code",
      "source": [
        "// negative because Ptolemy's 0 is *west* of Greenwich:\n",
        "val originLongitude = -12.8\n",
        "\n",
        "val firstLonAdjusted = GeoPoint(firstRescaled.id, firstRescaled.lat, firstRescaled.lon + originLongitude)"
      ],
      "outputs": [
        {
          "output_type": "execute_result",
          "execution_count": 16,
          "data": {
            "text/plain": [
              "\u001b[36moriginLongitude\u001b[39m: \u001b[32mDouble\u001b[39m = \u001b[32m-12.8\u001b[39m\n",
              "\u001b[36mfirstLonAdjusted\u001b[39m: \u001b[32mGeoPoint\u001b[39m = \u001b[33mGeoPoint\u001b[39m(\u001b[32m\"pt_ll_1\"\u001b[39m, \u001b[32m7.92\u001b[39m, \u001b[32m-4.880000000000001\u001b[39m)"
            ]
          },
          "metadata": {}
        }
      ],
      "execution_count": 16,
      "metadata": {
        "collapsed": false,
        "jupyter": {
          "source_hidden": false,
          "outputs_hidden": false
        },
        "nteract": {
          "transient": {
            "deleting": false
          }
        },
        "execution": {
          "iopub.status.busy": "2020-03-26T16:46:26.684Z",
          "iopub.execute_input": "2020-03-26T16:46:26.691Z",
          "iopub.status.idle": "2020-03-26T16:46:37.445Z"
        }
      }
    },
    {
      "cell_type": "markdown",
      "source": [
        "### Task: create a Vector of points with adjusted longitude\n"
      ],
      "metadata": {
        "nteract": {
          "transient": {
            "deleting": false
          }
        }
      }
    },
    {
      "cell_type": "code",
      "source": [
        "// Map your existing ptolemyRescaled Vector:\n",
        "\n",
        "// val ptolemyLonAdjusted = ptolemyScaled.map( pt => ??? )"
      ],
      "outputs": [],
      "execution_count": null,
      "metadata": {
        "collapsed": false,
        "jupyter": {
          "source_hidden": false,
          "outputs_hidden": false
        },
        "nteract": {
          "transient": {
            "deleting": false
          }
        }
      }
    },
    {
      "cell_type": "markdown",
      "source": [
        "## 3. Adjust base of latitude\n",
        "\n",
        "When Ptolemy converted ground distances to spherical coordinates, he did not use the equator (0 degrees of latitude) as his baseline to compute from.  Instead, he used \"the parallel through Rhodes,\" which he gives as 36 degrees north of the equator.  But if we scale his raw value of 36 degrees by the ratio of 18/25, then the baseline he thought was 36 degrees north of the equator was actually less than 26 degrees north of the equator.  We need to *add* to each latitude value this difference (roughly 10 degrees) between the raw value of 36 degrees and the scaled-down value.\n",
        "\n",
        "The following cell shows how to compute that offset value, and apply it to one point."
      ],
      "metadata": {}
    },
    {
      "cell_type": "code",
      "source": [
        "val rhodesRaw = 36.0\n",
        "val rhodesAdjusted = ratio * rhodesRaw\n",
        "val offset = rhodesRaw - rhodesAdjusted\n"
      ],
      "outputs": [
        {
          "output_type": "execute_result",
          "execution_count": 11,
          "data": {
            "text/plain": [
              "\u001b[36mrhodesRaw\u001b[39m: \u001b[32mDouble\u001b[39m = \u001b[32m36.0\u001b[39m\n",
              "\u001b[36mrhodesAdjusted\u001b[39m: \u001b[32mDouble\u001b[39m = \u001b[32m25.919999999999998\u001b[39m\n",
              "\u001b[36moffset\u001b[39m: \u001b[32mDouble\u001b[39m = \u001b[32m10.080000000000002\u001b[39m"
            ]
          },
          "metadata": {}
        }
      ],
      "execution_count": 11,
      "metadata": {
        "execution": {
          "iopub.status.busy": "2020-03-26T16:38:40.358Z",
          "iopub.execute_input": "2020-03-26T16:38:40.364Z",
          "iopub.status.idle": "2020-03-26T16:40:43.509Z"
        }
      }
    },
    {
      "cell_type": "code",
      "source": [
        "val firstLonLatAdjusted = GeoPoint(firstLonAdjusted.id, firstLonAdjusted.lat + offset, firstLonAdjusted.lon)"
      ],
      "outputs": [
        {
          "output_type": "execute_result",
          "execution_count": 17,
          "data": {
            "text/plain": [
              "\u001b[36mfirstLonLatAdjusted\u001b[39m: \u001b[32mGeoPoint\u001b[39m = \u001b[33mGeoPoint\u001b[39m(\u001b[32m\"pt_ll_1\"\u001b[39m, \u001b[32m5.200000000000001\u001b[39m, \u001b[32m7.92\u001b[39m)"
            ]
          },
          "metadata": {}
        }
      ],
      "execution_count": 17,
      "metadata": {
        "execution": {
          "iopub.status.busy": "2020-03-26T16:46:37.455Z",
          "iopub.execute_input": "2020-03-26T16:46:37.459Z",
          "iopub.status.idle": "2020-03-26T16:45:51.015Z"
        }
      }
    },
    {
      "cell_type": "markdown",
      "source": [
        "### Task: create a Vector of points with all three adjustments"
      ],
      "metadata": {
        "nteract": {
          "transient": {
            "deleting": false
          }
        }
      }
    },
    {
      "cell_type": "code",
      "source": [
        "// Map the existing ptolemyLonAdjusted Vector:\n",
        "\n",
        "// val ptolemyAdjusted = ptolemyLonAdjusted.map(pt => ???)\n",
        "\n",
        "\n",
        "\n"
      ],
      "outputs": [],
      "execution_count": null,
      "metadata": {}
    },
    {
      "cell_type": "markdown",
      "source": [
        "## Get your data into a GIS\n",
        "\n",
        "We'd like to write a file with our data in `.csv` format that a GIS can read.\n",
        "\n",
        "This requires two steps:\n",
        "\n",
        "1. format the Vector of `GeoPoint` objects as csv Strings.\n",
        "2. write the formatted Strings to a file\n",
        "\n",
        "The `csv` method of the `GeoPoint` class will simplify this: we can simply map every `GeoPoint` to the String output of its `csv` method."
      ],
      "metadata": {}
    },
    {
      "cell_type": "code",
      "source": [
        "// val csvVector = ptolemyAdjusted.map(pt => pt.csv)"
      ],
      "outputs": [],
      "execution_count": null,
      "metadata": {
        "collapsed": false,
        "jupyter": {
          "source_hidden": false,
          "outputs_hidden": false
        },
        "nteract": {
          "transient": {
            "deleting": false
          }
        }
      }
    },
    {
      "cell_type": "markdown",
      "source": [
        "Vectors have a handy `mkString` method to make a String out of a Vector.  It takes one parameter:  a String value used to join each element.  The following cell turns the Vector of Strings into a single String with new lines separating the components of the source Vector."
      ],
      "metadata": {
        "nteract": {
          "transient": {
            "deleting": false
          }
        }
      }
    },
    {
      "cell_type": "code",
      "source": [
        "// val csv = csvVector.mkString(\"\\n\")"
      ],
      "outputs": [],
      "execution_count": null,
      "metadata": {
        "collapsed": false,
        "jupyter": {
          "source_hidden": false,
          "outputs_hidden": false
        },
        "nteract": {
          "transient": {
            "deleting": false
          }
        }
      }
    },
    {
      "cell_type": "markdown",
      "source": [
        "We should define a header line to include in our `csv` file:"
      ],
      "metadata": {
        "nteract": {
          "transient": {
            "deleting": false
          }
        }
      }
    },
    {
      "cell_type": "code",
      "source": [
        "val header = \"id,lon,lat\\n\""
      ],
      "outputs": [],
      "execution_count": null,
      "metadata": {
        "collapsed": false,
        "jupyter": {
          "source_hidden": false,
          "outputs_hidden": false
        },
        "nteract": {
          "transient": {
            "deleting": false
          }
        }
      }
    },
    {
      "cell_type": "markdown",
      "source": [
        "### If running locally (e.g., in Atom)\n",
        "\n",
        "`PrintWriter` is a clunky old Java class but if you just clone the code in the following cell, it's easy enough to write your output to a file in your local file system."
      ],
      "metadata": {
        "nteract": {
          "transient": {
            "deleting": false
          }
        }
      }
    },
    {
      "cell_type": "code",
      "source": [
        "import java.io.PrintWriter\n",
        "new PrintWriter(\"ptolemy-output.csv\"){ write(header + csv); close; }"
      ],
      "outputs": [],
      "execution_count": null,
      "metadata": {}
    },
    {
      "cell_type": "markdown",
      "source": [
        "### If running Jupyter notebook on `mybinder.org`\n",
        "\n",
        "If you're running the Jupyter notebook on `mybinder.org`, use `println` to display all values, that you can then (tediously) copy and paste into a text file."
      ],
      "metadata": {}
    },
    {
      "cell_type": "code",
      "source": [
        "println(header + csv)"
      ],
      "outputs": [],
      "execution_count": null,
      "metadata": {}
    },
    {
      "cell_type": "markdown",
      "source": [
        "## Load your CSV file into QGIS and visualize!\n"
      ],
      "metadata": {}
    }
  ],
  "metadata": {
    "kernel_info": {
      "name": "scala212"
    },
    "kernelspec": {
      "display_name": "Scala (2.12)",
      "language": "scala",
      "name": "scala212"
    },
    "language_info": {
      "name": "scala",
      "version": "2.12.10",
      "mimetype": "text/x-scala",
      "file_extension": ".scala",
      "nbconvert_exporter": "script",
      "codemirror_mode": "text/x-scala"
    },
    "nteract": {
      "version": "0.22.0"
    }
  },
  "nbformat": 4,
  "nbformat_minor": 1
}