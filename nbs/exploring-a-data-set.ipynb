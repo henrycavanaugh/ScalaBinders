{
  "cells": [
    {
      "cell_type": "markdown",
      "source": [
        "# Exploring a data set\n",
        "\n",
        "In this notebook, you'll download a data set, and try to get an overview of what's in it.\n",
        "\n",
        "## Configure notebook\n",
        "\n",
        "The following cell adds a code repository, and makes specific libraries available to this notebook.\n",
        "\n",
        "\n",
        "\n"
      ],
      "metadata": {}
    },
    {
      "cell_type": "code",
      "source": [
        "// 1. Add maven repository where we can find additional libraries we'll use\n",
        "val myBT = coursierapi.MavenRepository.of(\"https://dl.bintray.com/neelsmith/maven\")\n",
        "interp.repositories() ++= Seq(myBT)"
      ],
      "outputs": [],
      "execution_count": null,
      "metadata": {
        "collapsed": false,
        "outputHidden": false,
        "inputHidden": false
      }
    },
    {
      "cell_type": "markdown",
      "source": [
        "## Download delimited-text data"
      ],
      "metadata": {}
    },
    {
      "cell_type": "code",
      "source": [
        "import scala.io.Source\n",
        "val ocreCex = \"https://raw.githubusercontent.com/neelsmith/nomisma/master/cex/ocre-cite-ids.cex\""
      ],
      "outputs": [],
      "execution_count": null,
      "metadata": {
        "collapsed": false,
        "outputHidden": false,
        "inputHidden": false
      }
    },
    {
      "cell_type": "code",
      "source": [
        "val lines = Source.fromURL(ocreCex).getLines.toVector\n"
      ],
      "outputs": [],
      "execution_count": null,
      "metadata": {
        "collapsed": false,
        "outputHidden": false,
        "inputHidden": false
      }
    },
    {
      "cell_type": "markdown",
      "source": [
        "## Examine header line"
      ],
      "metadata": {}
    },
    {
      "cell_type": "code",
      "source": [
        "val headings = lines.head.split(\"#\").toVector"
      ],
      "outputs": [],
      "execution_count": null,
      "metadata": {
        "collapsed": false,
        "outputHidden": false,
        "inputHidden": false
      }
    },
    {
      "cell_type": "code",
      "source": [
        "val data = lines.tail.map(_.split(\"#\").toVector)"
      ],
      "outputs": [],
      "execution_count": null,
      "metadata": {
        "collapsed": false,
        "outputHidden": false,
        "inputHidden": false
      }
    },
    {
      "cell_type": "code",
      "source": [
        "val ids = data.map(_(0))"
      ],
      "outputs": [],
      "execution_count": null,
      "metadata": {
        "collapsed": false,
        "outputHidden": false,
        "inputHidden": false
      }
    },
    {
      "cell_type": "code",
      "source": [
        "//println(\"Records: \" + ids.size)\n",
        "//println(\"Distinct IDs: \" + ids.distinct.size)\n",
        "if(ids.size == ids.distinct.size) {\n",
        "    println(\"All records uniquely identified.\")\n",
        "} else {\n",
        "    println(\"Duplicate identifiers in data set.\")\n",
        "}"
      ],
      "outputs": [],
      "execution_count": null,
      "metadata": {
        "collapsed": false,
        "outputHidden": false,
        "inputHidden": false
      }
    },
    {
      "cell_type": "markdown",
      "source": [
        "## Distribution of denominations\n",
        "\n",
        "Denominations are in the third column."
      ],
      "metadata": {}
    },
    {
      "cell_type": "code",
      "source": [
        "val denominations = data.map(_(2))"
      ],
      "outputs": [],
      "execution_count": null,
      "metadata": {
        "collapsed": false,
        "outputHidden": false,
        "inputHidden": false
      }
    },
    {
      "cell_type": "code",
      "source": [
        "val denominationsGrouped = denominations.groupBy(d => d)\n",
        "val denominationsCounts = denominationsGrouped.map{ case (d, v) => (d, v.size) }\n",
        "val denominationsHisto = denominationsCounts.toVector.sortBy(_._2).reverse"
      ],
      "outputs": [],
      "execution_count": null,
      "metadata": {
        "collapsed": false,
        "outputHidden": false,
        "inputHidden": false
      }
    },
    {
      "cell_type": "code",
      "source": [
        "val denominationsHistoStrings = denominationsHisto.map{ case (denom, count) => denom + \" \" + count }\n",
        "println(denominationsHistoStrings.mkString(\"\\n\"))"
      ],
      "outputs": [],
      "execution_count": null,
      "metadata": {
        "collapsed": false,
        "outputHidden": false,
        "inputHidden": false
      }
    },
    {
      "cell_type": "code",
      "source": [
        "println(\"Most frequent denomination: \" + denominationsHisto.head)"
      ],
      "outputs": [],
      "execution_count": null,
      "metadata": {
        "collapsed": false,
        "outputHidden": false,
        "inputHidden": false
      }
    },
    {
      "cell_type": "code",
      "source": [
        "val leastDenominations = denominationsHisto.filter(_._2 < 10)\n",
        "println(\"Least frequent denominations: \\n\" + leastDenominations.mkString(\"\\n\"))"
      ],
      "outputs": [],
      "execution_count": null,
      "metadata": {
        "collapsed": false,
        "outputHidden": false,
        "inputHidden": false
      }
    },
    {
      "cell_type": "markdown",
      "source": [
        "## Assignment\n"
      ],
      "metadata": {}
    }
  ],
  "metadata": {
    "kernelspec": {
      "name": "scala212",
      "language": "scala",
      "display_name": "Scala212 (almond)"
    },
    "language_info": {
      "name": "scala",
      "version": "2.12.10",
      "mimetype": "text/x-scala",
      "file_extension": ".scala",
      "nbconvert_exporter": "script",
      "codemirror_mode": "text/x-scala"
    },
    "kernel_info": {
      "name": "scala212"
    },
    "nteract": {
      "version": "0.15.0"
    }
  },
  "nbformat": 4,
  "nbformat_minor": 2
}