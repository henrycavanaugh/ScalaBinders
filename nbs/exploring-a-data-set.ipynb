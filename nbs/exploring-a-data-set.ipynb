{
  "cells": [
    {
      "cell_type": "markdown",
      "source": [
        "# Exploring a data set\n",
        "\n",
        "In this notebook, you'll download a data set derived from the openly licensed content of the [Online Coins of the Roman Empire](http://numismatics.org/ocre/) (OCRE). The original data set is available from <http://nomisma.org/> RDF XML format.  We'l work with a version formatted as a delimited-text file, using `#` as the column delimiter, with a header line labelling each column.\n",
        "\n",
        "As with any data set, our first task is to figure out what kinds of data it contains, and what the range of values are for each category of data. We'll examine the contents of several columns of data.\n",
        "\n",
        "\n"
      ],
      "metadata": {}
    },
    {
      "cell_type": "markdown",
      "source": [
        "## Download delimited-text data\n",
        "\n",
        "We'll make the standard Scala `Source` object available by `import`ing it, then use it to retrieve the content of a URL."
      ],
      "metadata": {}
    },
    {
      "cell_type": "code",
      "source": [
        "import scala.io.Source\n",
        "val ocreCex = \"https://raw.githubusercontent.com/neelsmith/nomisma/master/cex/ocre-cite-ids.cex\""
      ],
      "outputs": [],
      "execution_count": null,
      "metadata": {
        "inputHidden": false,
        "outputHidden": false
      }
    },
    {
      "cell_type": "markdown",
      "source": [
        "We'll extract a sequence of lines from the URL source, and convert them to our favorite type of Scala collection, a `Vector`.\n",
        "\n",
        "(The following cell downloads the data:  depending on your internet connection, this might take a moment.)"
      ],
      "metadata": {}
    },
    {
      "cell_type": "code",
      "source": [
        "val lines = Source.fromURL(ocreCex).getLines.toVector"
      ],
      "outputs": [],
      "execution_count": null,
      "metadata": {
        "collapsed": true,
        "inputHidden": false,
        "outputHidden": false
      }
    },
    {
      "cell_type": "markdown",
      "source": [
        "## Examine header line\n",
        "\n",
        "To start with, let's see what the first line looks like, and compare it with the first data line."
      ],
      "metadata": {}
    },
    {
      "cell_type": "code",
      "source": [
        "lines.head // same as lines(0)"
      ],
      "outputs": [],
      "execution_count": null,
      "metadata": {}
    },
    {
      "cell_type": "code",
      "source": [
        "lines(1)"
      ],
      "outputs": [],
      "execution_count": null,
      "metadata": {
        "collapsed": false,
        "outputHidden": false,
        "inputHidden": false
      }
    },
    {
      "cell_type": "markdown",
      "source": [
        "## Split data strings into columns\n",
        "\n",
        "Every line is a `String`.  If we break it up using the `split` method, we get an `Array` of `String`s, which we'll convert to a `Vector` of `String`s.  The end result will be that from a Vector of Strings, we create a Vector of Vectors of Strings.  Notice that Scala identifies the class of the new `data` expression as  `Vector[Vector[String]]`.\n",
        " "
      ],
      "metadata": {}
    },
    {
      "cell_type": "code",
      "source": [
        "val data = lines.tail.map(_.split(\"#\").toVector)"
      ],
      "outputs": [],
      "execution_count": null,
      "metadata": {
        "inputHidden": false,
        "outputHidden": false
      }
    },
    {
      "cell_type": "markdown",
      "source": [
        "Mapping each Vector to the first item in the Vector is equivalent to extracting the first column from each Vector.  The header line told us that the first column should contain ID values."
      ],
      "metadata": {}
    },
    {
      "cell_type": "code",
      "source": [
        "val ids = data.map(_(0))"
      ],
      "outputs": [],
      "execution_count": null,
      "metadata": {
        "inputHidden": false,
        "outputHidden": false
      }
    },
    {
      "cell_type": "markdown",
      "source": [
        "We want to be sure that all ID values are unique.  We can verify that by comparing the number of items in the `ids` Vector with the number of *distinct values* in the `ids` Vector.  If they're the same, then every value is unique."
      ],
      "metadata": {}
    },
    {
      "cell_type": "code",
      "source": [
        "//println(\"Records: \" + ids.size)\n",
        "//println(\"Distinct IDs: \" + ids.distinct.size)\n",
        "if(ids.size == ids.distinct.size) {\n",
        "    println(\"All records uniquely identified.\")\n",
        "} else {\n",
        "    println(\"Duplicate identifiers in data set.\")\n",
        "}"
      ],
      "outputs": [],
      "execution_count": null,
      "metadata": {
        "inputHidden": false,
        "outputHidden": false
      }
    },
    {
      "cell_type": "markdown",
      "source": [
        "## Distribution of denominations\n",
        "\n",
        "Let's look at how coin denominations are described.  You can see from the header line that denominations are in the third column, so we'll map each Vector to the thrid column -- and remember that we start indexing with 0, so the third column is indexed as `(2)`."
      ],
      "metadata": {}
    },
    {
      "cell_type": "code",
      "source": [
        "val denominations = data.map(_(2))"
      ],
      "outputs": [],
      "execution_count": null,
      "metadata": {
        "inputHidden": false,
        "outputHidden": false
      }
    },
    {
      "cell_type": "markdown",
      "source": [],
      "metadata": {}
    },
    {
      "cell_type": "code",
      "source": [
        "val denominationsGrouped = denominations.groupBy(d => d)\n",
        "val denominationsCounts = denominationsGrouped.map{ case (d, v) => (d, v.size) }\n",
        "val denominationsHisto = denominationsCounts.toVector.sortBy(_._2).reverse"
      ],
      "outputs": [],
      "execution_count": null,
      "metadata": {
        "inputHidden": false,
        "outputHidden": false
      }
    },
    {
      "cell_type": "code",
      "source": [
        "val denominationsHistoStrings = denominationsHisto.map{ case (denom, count) => denom + \" \" + count }\n",
        "println(denominationsHistoStrings.mkString(\"\\n\"))"
      ],
      "outputs": [],
      "execution_count": null,
      "metadata": {
        "inputHidden": false,
        "outputHidden": false
      }
    },
    {
      "cell_type": "code",
      "source": [
        "println(\"Most frequent denomination: \" + denominationsHisto.head)"
      ],
      "outputs": [],
      "execution_count": null,
      "metadata": {
        "inputHidden": false,
        "outputHidden": false
      }
    },
    {
      "cell_type": "code",
      "source": [
        "val leastDenominations = denominationsHisto.filter(_._2 < 10)\n",
        "println(\"Least frequent denominations: \\n\" + leastDenominations.mkString(\"\\n\"))"
      ],
      "outputs": [],
      "execution_count": null,
      "metadata": {
        "inputHidden": false,
        "outputHidden": false
      }
    },
    {
      "cell_type": "markdown",
      "source": [
        "## Assignment\n",
        "\n",
        "\n",
        "Analyze how many issues are produced by each issuing authority to answer the following questions:\n",
        "\n",
        "- How many different authorities strike coins in OCRE's data?\n",
        "- Who strikes the greatest number of issues?  How many?\n",
        "- What is the smallest number of issues struck by a single authority?"
      ],
      "metadata": {}
    },
    {
      "cell_type": "markdown",
      "source": [
        "### Gather and organize your data"
      ],
      "metadata": {}
    },
    {
      "cell_type": "code",
      "source": [
        "// First, to extract the \"Authority\" column from the data set, uncomment and complete the following line:\n",
        "// val authorities = ??"
      ],
      "outputs": [],
      "execution_count": null,
      "metadata": {
        "collapsed": false,
        "outputHidden": false,
        "inputHidden": false
      }
    },
    {
      "cell_type": "markdown",
      "source": [
        "### Question 1: how many authorities strike coins?\n",
        "\n"
      ],
      "metadata": {}
    },
    {
      "cell_type": "code",
      "source": [
        "// Use the distinct method and size method to count how many distinct values you have in `authorities`\n",
        "//\n",
        "// authorities.??"
      ],
      "outputs": [],
      "execution_count": null,
      "metadata": {
        "collapsed": false,
        "outputHidden": false,
        "inputHidden": false
      }
    },
    {
      "cell_type": "markdown",
      "source": [
        "### Group records by authority and count them"
      ],
      "metadata": {}
    },
    {
      "cell_type": "code",
      "source": [
        "// use the groupBy method to group each auhority by the authority value.\n",
        "// This will give you a Map of Strings to a Vector of Strings\n",
        "// \n",
        "// val authoritiesGrouped = ??\n"
      ],
      "outputs": [],
      "execution_count": null,
      "metadata": {
        "collapsed": false,
        "outputHidden": false,
        "inputHidden": false
      }
    },
    {
      "cell_type": "code",
      "source": [
        "// now convert each pairing of String->Vector[String] to a String->Int counting how many elements are in the original Vector.\n",
        "// The result is a Map[String->Int].\n",
        "//\n",
        "// val authoritiesCounts = authoritiesGrouped.map{ ?? }"
      ],
      "outputs": [],
      "execution_count": null,
      "metadata": {
        "collapsed": false,
        "outputHidden": false,
        "inputHidden": false
      }
    },
    {
      "cell_type": "code",
      "source": [
        "// next convert your Map[String->Int] to a Vector.  The result is a Vector of pairings of (String, Int).\n",
        "// We'll sort this by the second element of the pairing, namely the Int.  Since we sort from smallest to largest\n",
        "// by default, you can reverse the result so that the \n",
        "//\n",
        "// val authoritiesHistogram = authoritiesCounts.??"
      ],
      "outputs": [],
      "execution_count": null,
      "metadata": {
        "collapsed": false,
        "outputHidden": false,
        "inputHidden": false
      }
    },
    {
      "cell_type": "markdown",
      "source": [
        "### Questions 2 and 3: who strikes the most issues? the fewest?"
      ],
      "metadata": {}
    },
    {
      "cell_type": "code",
      "source": [
        "// With the authoritiesHistogram you created, you can use the `head` and `last` methods to see the first and last entries in the Vector.\n"
      ],
      "outputs": [],
      "execution_count": null,
      "metadata": {
        "collapsed": false,
        "outputHidden": false,
        "inputHidden": false
      }
    }
  ],
  "metadata": {
    "kernel_info": {
      "name": "scala212"
    },
    "kernelspec": {
      "name": "scala212",
      "language": "scala",
      "display_name": "Scala212 (almond)"
    },
    "language_info": {
      "name": "scala",
      "version": "2.12.10",
      "mimetype": "text/x-scala",
      "file_extension": ".scala",
      "nbconvert_exporter": "script",
      "codemirror_mode": "text/x-scala"
    },
    "nteract": {
      "version": "0.15.0"
    }
  },
  "nbformat": 4,
  "nbformat_minor": 2
}