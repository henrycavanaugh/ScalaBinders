{
  "cells": [
    {
      "cell_type": "markdown",
      "source": [
        "# Data modelling with case classes\n",
        "\n",
        "- painter\n",
        "- beazley number\n",
        "- museum ID\n",
        "- shape\n",
        "- find spot\n",
        "- subject description\n",
        "- Pleiades ID\n"
      ],
      "metadata": {}
    },
    {
      "cell_type": "code",
      "source": [
        "case class Beazley(painter: String, \n",
        "                   beazley: String, \n",
        "                   museum: String, \n",
        "                   shape: String,\n",
        "                   findSpot: String, \n",
        "                   subject: String)"
      ],
      "outputs": [
        {
          "output_type": "execute_result",
          "execution_count": 12,
          "data": {
            "text/plain": [
              "defined \u001b[32mclass\u001b[39m \u001b[36mBeazley\u001b[39m"
            ]
          },
          "metadata": {}
        }
      ],
      "execution_count": 12,
      "metadata": {}
    },
    {
      "cell_type": "code",
      "source": [
        "val sophilos1 = Beazley(\"Sophilos\", \"1\", \n",
        "                        \"Athens 991\", \n",
        "                        \"Neck-amphora; slender; long-necked: loutrophoros\",\n",
        "                        \"Vourva\",\n",
        "                        \"Three rows of animals on the body. Middle row: litany of animals. Upper: two rows of animals\"\n",
        "                        )\n"
      ],
      "outputs": [
        {
          "output_type": "execute_result",
          "execution_count": 13,
          "data": {
            "text/plain": [
              "\u001b[36msophilos1\u001b[39m: \u001b[32mBeazley\u001b[39m = \u001b[33mBeazley\u001b[39m(\n",
              "  \u001b[32m\"Sophilos\"\u001b[39m,\n",
              "  \u001b[32m\"1\"\u001b[39m,\n",
              "  \u001b[32m\"Athens 991\"\u001b[39m,\n",
              "  \u001b[32m\"Neck-amphora; slender; long-necked: loutrophoros\"\u001b[39m,\n",
              "  \u001b[32m\"Vourva\"\u001b[39m,\n",
              "  \u001b[32m\"Three rows of animals on the body. Middle row: litany of animals. Upper: two rows of animals\"\u001b[39m\n",
              ")"
            ]
          },
          "metadata": {}
        }
      ],
      "execution_count": 13,
      "metadata": {}
    },
    {
      "cell_type": "code",
      "source": [
        "sophilos1.museum\n",
        "sophilos1.findSpot"
      ],
      "outputs": [
        {
          "output_type": "execute_result",
          "execution_count": 14,
          "data": {
            "text/plain": [
              "\u001b[36mres13_0\u001b[39m: \u001b[32mString\u001b[39m = \u001b[32m\"Athens 991\"\u001b[39m\n",
              "\u001b[36mres13_1\u001b[39m: \u001b[32mString\u001b[39m = \u001b[32m\"Vourva\"\u001b[39m"
            ]
          },
          "metadata": {}
        }
      ],
      "execution_count": 14,
      "metadata": {}
    },
    {
      "cell_type": "code",
      "source": [
        "def beazleyParser(delimitedText: String): Beazley = {\n",
        "  val cols = delimitedText.split(\"#\")\n",
        "  cols.size match {\n",
        "    case bad if (bad < 6) => throw new Exception(\"Too few columns found in delimited text source: only \" + cols.size + \" columns in:\\n\" + delimitedText)\n",
        "\n",
        "    case _  => {\n",
        "      val painter = cols(0).trim\n",
        "      val beazley = cols(1).trim\n",
        "      val museum = cols(2).trim\n",
        "      val shape = cols(3).trim\n",
        "      val site = cols(4).trim\n",
        "      val subject = cols(5).trim\n",
        "      Beazley(painter, beazley, museum, shape, site, subject)\n",
        "    }\n",
        "  }\n",
        "}"
      ],
      "outputs": [
        {
          "output_type": "execute_result",
          "execution_count": 15,
          "data": {
            "text/plain": [
              "defined \u001b[32mfunction\u001b[39m \u001b[36mbeazleyParser\u001b[39m"
            ]
          },
          "metadata": {}
        }
      ],
      "execution_count": 15,
      "metadata": {}
    },
    {
      "cell_type": "code",
      "source": [
        "val delimitedLine = \"Sophilos#2# Athens 1036# Neck-amphora long-necked less slender# Marathon# Four rows on body depicting animals and Hermes\"\n",
        "beazleyParser(delimitedLine)"
      ],
      "outputs": [
        {
          "output_type": "execute_result",
          "execution_count": 16,
          "data": {
            "text/plain": [
              "\u001b[36mdelimitedLine\u001b[39m: \u001b[32mString\u001b[39m = \u001b[32m\"Sophilos#2# Athens 1036# Neck-amphora long-necked less slender# Marathon# Four rows on body depicting animals and Hermes\"\u001b[39m\n",
              "\u001b[36mres15_1\u001b[39m: \u001b[32mBeazley\u001b[39m = \u001b[33mBeazley\u001b[39m(\n",
              "  \u001b[32m\"Sophilos\"\u001b[39m,\n",
              "  \u001b[32m\"2\"\u001b[39m,\n",
              "  \u001b[32m\"Athens 1036\"\u001b[39m,\n",
              "  \u001b[32m\"Neck-amphora long-necked less slender\"\u001b[39m,\n",
              "  \u001b[32m\"Marathon\"\u001b[39m,\n",
              "  \u001b[32m\"Four rows on body depicting animals and Hermes\"\u001b[39m\n",
              ")"
            ]
          },
          "metadata": {}
        }
      ],
      "execution_count": 16,
      "metadata": {}
    },
    {
      "cell_type": "code",
      "source": [
        "val sourceUrl = \"https://raw.githubusercontent.com/neelsmith/arch-data-analysis-ipynb/master/data/composite.cex\"\n",
        "\n",
        "import scala.io._\n",
        "\n",
        "val lines = Source.fromURL(sourceUrl).getLines.toVector.map(ln => ln.replaceAll(\"##\", \"# #\")\n",
        "                                                           \n",
        "                                                           )"
      ],
      "outputs": [
        {
          "output_type": "execute_result",
          "execution_count": 18,
          "data": {
            "text/plain": [
              "\u001b[36msourceUrl\u001b[39m: \u001b[32mString\u001b[39m = \u001b[32m\"https://raw.githubusercontent.com/neelsmith/arch-data-analysis-ipynb/master/data/composite.cex\"\u001b[39m\n",
              "\u001b[32mimport \u001b[39m\u001b[36mscala.io._\n",
              "\n",
              "\u001b[39m\n",
              "\u001b[36mlines\u001b[39m: \u001b[32mVector\u001b[39m[\u001b[32mString\u001b[39m] = \u001b[33mVector\u001b[39m(\n",
              "  \u001b[32m\"Painter#BeazleyNumber#MuseumID#shape#findspot#comments#pleiadesId#\"\u001b[39m,\n",
              "  \u001b[32m\"Achilles Painter#186#was in the Boston Museum but only on loan#white lekythos# #mistress and maid# #\"\u001b[39m,\n",
              "  \u001b[32m\"Achilles Painter#187#Athens Vlasto#white lekythos#Kitsi#youth and woman at tomb#579885#\"\u001b[39m,\n",
              "  \u001b[32m\"Achilles Painter#188#Washington 330657#the upper half of the vase remains. white lekythos#Karouzou Philippaki#youth and woman# #\"\u001b[39m,\n",
              "  \u001b[32m\"Achilles Painter#189#Oxford#white lekythos#Greece#youth with spear and woman holding helmet# #\"\u001b[39m,\n",
              "  \u001b[32m\"Achilles Painter#190#Munich#white lekythos# ## #\"\u001b[39m,\n",
              "  \u001b[32m\"Achilles Painter#191#Lond Victoria and Albert Museum#white lekythos# #two youths at tomb# #\"\u001b[39m,\n",
              "  \u001b[32m\"Achilles Painter#192#Oxford 1947.24#white lekythos#Greece#youth and woman at tomb# #\"\u001b[39m,\n",
              "  \u001b[32m\"Achilles Painter#193#London D 54#white lekythos#Eretria#two youths at tomb#579925#\"\u001b[39m,\n",
              "  \u001b[32m\"Achilles Painter#194#London D 55#white lekythos#Eretria#youth and woman#579925#\"\u001b[39m,\n",
              "  \u001b[32m\"Achilles Painter#195#Oxford 266#shoulder neck and mouth of the vase are alien. white lekythos#Gela#woman seated with small cithara and woman with lyre#462215#\"\u001b[39m,\n",
              "  \u001b[32m\"Achilles Painter#196#Oxford#white lekythos#Liopesi#back and right arm of the left-handed figure a woman with the back of her head# #\"\u001b[39m,\n",
              "  \u001b[32m\"Achilles Painter#197#Rouen#white lekythos# #mistress and maid# #\"\u001b[39m,\n",
              "  \u001b[32m\"Achilles Painter#198#Cracow University inv. 14180#white lekythos#Greece#two women mistress adn maid# #\"\u001b[39m,\n",
              "  \u001b[32m\"Achilles Painter#199#Chicago 07.20#white lekythos# #touth and old man# #\"\u001b[39m,\n",
              "  \u001b[32m\"Achilles Painter#200#Amiens 3057.172.33#white lekythos# #man and woman at tomb# #\"\u001b[39m,\n",
              "  \u001b[32m\"Achilles Painter#201#London D 51#white lekythos#Marion#warrior and woman#707574#\"\u001b[39m,\n",
              "  \u001b[32m\"Achilles Painter#202#Bologna PU 362#white lekythos#Athens#woman with small cithara and woman#579885#\"\u001b[39m,\n",
              "  \u001b[32m\"Achilles Painter#203#Leningrad 936#white lekythos# #mistress and maid (woman with basket of sashes woman frontal)# #\"\u001b[39m,\n",
              "  \u001b[32m\"Achilles Painter#204#New York 54.11.7#white lekythos# #mistress and maid (woman standing to right holding a garmet rolled up girl standing to left ready to take it# #\"\u001b[39m,\n",
              "..."
            ]
          },
          "metadata": {}
        }
      ],
      "execution_count": 18,
      "metadata": {}
    },
    {
      "cell_type": "code",
      "source": [
        "val beazleys = lines.tail.map(ln => beazleyParser(ln))"
      ],
      "outputs": [
        {
          "output_type": "execute_result",
          "execution_count": 20,
          "data": {
            "text/plain": [
              "\u001b[36mbeazleys\u001b[39m: \u001b[32mVector\u001b[39m[\u001b[32mBeazley\u001b[39m] = \u001b[33mVector\u001b[39m(\n",
              "  \u001b[33mBeazley\u001b[39m(\n",
              "    \u001b[32m\"Achilles Painter\"\u001b[39m,\n",
              "    \u001b[32m\"186\"\u001b[39m,\n",
              "    \u001b[32m\"was in the Boston Museum but only on loan\"\u001b[39m,\n",
              "    \u001b[32m\"white lekythos\"\u001b[39m,\n",
              "    \u001b[32m\"\"\u001b[39m,\n",
              "    \u001b[32m\"mistress and maid\"\u001b[39m\n",
              "  ),\n",
              "  \u001b[33mBeazley\u001b[39m(\n",
              "    \u001b[32m\"Achilles Painter\"\u001b[39m,\n",
              "    \u001b[32m\"187\"\u001b[39m,\n",
              "    \u001b[32m\"Athens Vlasto\"\u001b[39m,\n",
              "    \u001b[32m\"white lekythos\"\u001b[39m,\n",
              "    \u001b[32m\"Kitsi\"\u001b[39m,\n",
              "    \u001b[32m\"youth and woman at tomb\"\u001b[39m\n",
              "  ),\n",
              "  \u001b[33mBeazley\u001b[39m(\n",
              "    \u001b[32m\"Achilles Painter\"\u001b[39m,\n",
              "    \u001b[32m\"188\"\u001b[39m,\n",
              "    \u001b[32m\"Washington 330657\"\u001b[39m,\n",
              "    \u001b[32m\"the upper half of the vase remains. white lekythos\"\u001b[39m,\n",
              "    \u001b[32m\"Karouzou Philippaki\"\u001b[39m,\n",
              "    \u001b[32m\"youth and woman\"\u001b[39m\n",
              "  ),\n",
              "  \u001b[33mBeazley\u001b[39m(\n",
              "    \u001b[32m\"Achilles Painter\"\u001b[39m,\n",
              "    \u001b[32m\"189\"\u001b[39m,\n",
              "    \u001b[32m\"Oxford\"\u001b[39m,\n",
              "    \u001b[32m\"white lekythos\"\u001b[39m,\n",
              "    \u001b[32m\"Greece\"\u001b[39m,\n",
              "    \u001b[32m\"youth with spear and woman holding helmet\"\u001b[39m\n",
              "  ),\n",
              "  \u001b[33mBeazley\u001b[39m(\u001b[32m\"Achilles Painter\"\u001b[39m, \u001b[32m\"190\"\u001b[39m, \u001b[32m\"Munich\"\u001b[39m, \u001b[32m\"white lekythos\"\u001b[39m, \u001b[32m\"\"\u001b[39m, \u001b[32m\"\"\u001b[39m),\n",
              "  \u001b[33mBeazley\u001b[39m(\n",
              "    \u001b[32m\"Achilles Painter\"\u001b[39m,\n",
              "    \u001b[32m\"191\"\u001b[39m,\n",
              "    \u001b[32m\"Lond Victoria and Albert Museum\"\u001b[39m,\n",
              "    \u001b[32m\"white lekythos\"\u001b[39m,\n",
              "..."
            ]
          },
          "metadata": {}
        }
      ],
      "execution_count": 20,
      "metadata": {
        "collapsed": true
      }
    },
    {
      "cell_type": "code",
      "source": [
        "beazleys.size\n",
        "val findSpots1 = beazleys.filter(beaz => beaz.findSpot.nonEmpty)\n"
      ],
      "outputs": [
        {
          "output_type": "execute_result",
          "execution_count": 21,
          "data": {
            "text/plain": [
              "\u001b[36mres20_0\u001b[39m: \u001b[32mInt\u001b[39m = \u001b[32m351\u001b[39m\n",
              "\u001b[36mfindSpots1\u001b[39m: \u001b[32mVector\u001b[39m[\u001b[32mBeazley\u001b[39m] = \u001b[33mVector\u001b[39m(\n",
              "  \u001b[33mBeazley\u001b[39m(\n",
              "    \u001b[32m\"Achilles Painter\"\u001b[39m,\n",
              "    \u001b[32m\"187\"\u001b[39m,\n",
              "    \u001b[32m\"Athens Vlasto\"\u001b[39m,\n",
              "    \u001b[32m\"white lekythos\"\u001b[39m,\n",
              "    \u001b[32m\"Kitsi\"\u001b[39m,\n",
              "    \u001b[32m\"youth and woman at tomb\"\u001b[39m\n",
              "  ),\n",
              "  \u001b[33mBeazley\u001b[39m(\n",
              "    \u001b[32m\"Achilles Painter\"\u001b[39m,\n",
              "    \u001b[32m\"188\"\u001b[39m,\n",
              "    \u001b[32m\"Washington 330657\"\u001b[39m,\n",
              "    \u001b[32m\"the upper half of the vase remains. white lekythos\"\u001b[39m,\n",
              "    \u001b[32m\"Karouzou Philippaki\"\u001b[39m,\n",
              "    \u001b[32m\"youth and woman\"\u001b[39m\n",
              "  ),\n",
              "  \u001b[33mBeazley\u001b[39m(\n",
              "    \u001b[32m\"Achilles Painter\"\u001b[39m,\n",
              "    \u001b[32m\"189\"\u001b[39m,\n",
              "    \u001b[32m\"Oxford\"\u001b[39m,\n",
              "    \u001b[32m\"white lekythos\"\u001b[39m,\n",
              "    \u001b[32m\"Greece\"\u001b[39m,\n",
              "    \u001b[32m\"youth with spear and woman holding helmet\"\u001b[39m\n",
              "  ),\n",
              "  \u001b[33mBeazley\u001b[39m(\n",
              "    \u001b[32m\"Achilles Painter\"\u001b[39m,\n",
              "    \u001b[32m\"192\"\u001b[39m,\n",
              "    \u001b[32m\"Oxford 1947.24\"\u001b[39m,\n",
              "    \u001b[32m\"white lekythos\"\u001b[39m,\n",
              "    \u001b[32m\"Greece\"\u001b[39m,\n",
              "    \u001b[32m\"youth and woman at tomb\"\u001b[39m\n",
              "  ),\n",
              "  \u001b[33mBeazley\u001b[39m(\n",
              "    \u001b[32m\"Achilles Painter\"\u001b[39m,\n",
              "    \u001b[32m\"193\"\u001b[39m,\n",
              "    \u001b[32m\"London D 54\"\u001b[39m,\n",
              "    \u001b[32m\"white lekythos\"\u001b[39m,\n",
              "    \u001b[32m\"Eretria\"\u001b[39m,\n",
              "..."
            ]
          },
          "metadata": {}
        }
      ],
      "execution_count": 21,
      "metadata": {}
    },
    {
      "cell_type": "code",
      "source": [
        "println(findSpots1.map(b=>b.findSpot).distinct.sorted.mkString(\"\\n\"))"
      ],
      "outputs": [
        {
          "output_type": "stream",
          "name": "stdout",
          "text": [
            "?\n",
            "Aegina\n",
            "Athens\n",
            "Athens Market\n",
            "Auction xvi Basle 30.124\n",
            "Berlin\n",
            "Bologna\n",
            "Cape Zoster\n",
            "Cerverti\n",
            "Cerveteri\n",
            "Cervetri\n",
            "Chiusi\n",
            "Delphi\n",
            "Egypt\n",
            "Eretria\n",
            "Etruria\n",
            "Fairbanks\n",
            "Falerii\n",
            "Farmavoski\n",
            "Fratte\n",
            "Gela\n",
            "Gela Sicily\n",
            "Gela-Sicily\n",
            "Gerhard pl.162\n",
            "Greece\n",
            "Hanai Tepe in the Troad\n",
            "Izmir\n",
            "Kalyvia\n",
            "Karouzou Philippaki\n",
            "Keratea\n",
            "Kerch\n",
            "Kitsi\n",
            "Koropi\n",
            "Laurion\n",
            "Lindos\n",
            "Liopesi\n",
            "Locri\n",
            "Magna Graecia\n",
            "Marathon\n",
            "Marion\n",
            "Menidi\n",
            "N/A\n",
            "Naucratis\n",
            "Nepi\n",
            "Newcastle upon Tyne\n",
            "Nola\n",
            "Orvieto\n",
            "Padula\n",
            "Pharsalos\n",
            "Pikrodafni.\n",
            "Rome\n",
            "Selinus\n",
            "South Italy\n",
            "Spina\n",
            "Stockholm\n",
            "Suessula\n",
            "Taranto\n",
            "Tarquinia\n",
            "Unknown\n",
            "Vari\n",
            "Veii\n",
            "Villa giulia\n",
            "Vourva\n",
            "Vulci\n",
            "Zervos\n",
            "from Italy.\n",
            "none\n",
            "uknown\n",
            "unknown\n",
            "unknowncloak moving to the right\n"
          ]
        }
      ],
      "execution_count": 22,
      "metadata": {}
    },
    {
      "cell_type": "code",
      "source": [
        "val myBT = coursierapi.MavenRepository.of(\"https://dl.bintray.com/neelsmith/maven\")\n",
        "interp.repositories() ++= Seq(myBT)"
      ],
      "outputs": [
        {
          "output_type": "execute_result",
          "execution_count": 7,
          "data": {
            "text/plain": [
              "\u001b[36mmyBT\u001b[39m: \u001b[32mcoursierapi\u001b[39m.\u001b[32mMavenRepository\u001b[39m = MavenRepository(https://dl.bintray.com/neelsmith/maven)"
            ]
          },
          "metadata": {}
        }
      ],
      "execution_count": 7,
      "metadata": {
        "collapsed": false,
        "jupyter": {
          "source_hidden": false,
          "outputs_hidden": false
        },
        "nteract": {
          "transient": {
            "deleting": false
          }
        }
      }
    },
    {
      "cell_type": "code",
      "source": [
        "import $ivy.`edu.holycross.shot::pleiades:1.1.0`"
      ],
      "outputs": [
        {
          "output_type": "execute_result",
          "execution_count": 8,
          "data": {
            "text/plain": [
              "\u001b[32mimport \u001b[39m\u001b[36m$ivy.$                                   \u001b[39m"
            ]
          },
          "metadata": {}
        }
      ],
      "execution_count": 8,
      "metadata": {
        "collapsed": false,
        "jupyter": {
          "source_hidden": false,
          "outputs_hidden": false
        },
        "nteract": {
          "transient": {
            "deleting": false
          }
        }
      }
    },
    {
      "cell_type": "code",
      "source": [
        "import edu.holycross.shot.pleiades._\n",
        "val pleiades = PleiadesDataSource.loadFromUrls()"
      ],
      "outputs": [
        {
          "output_type": "stream",
          "name": "stderr",
          "text": [
            "\u001b[34m2020-02-11 13:46:04.034-0500\u001b[0m  \u001b[36minfo\u001b[0m [\u001b[37mPleiadesDataSource\u001b[0m] \u001b[36mLoading Pleiades place data...\u001b[0m  \u001b[34m- (PleiadesDataSource.scala:26)\u001b[0m\n",
            "\u001b[34m2020-02-11 13:46:06.007-0500\u001b[0m  \u001b[36minfo\u001b[0m [\u001b[37mPleiadesPlaces\u001b[0m] \u001b[36mParsing 36835 pleiades place records.\u001b[0m  \u001b[34m- (PleiadesPlaces.scala:52)\u001b[0m\n",
            "\u001b[34m2020-02-11 13:46:06.594-0500\u001b[0m  \u001b[36minfo\u001b[0m [\u001b[37mPleiadesPlaces\u001b[0m] \u001b[36mSuccessfully parsed 36835 places records.\u001b[0m  \u001b[34m- (PleiadesPlaces.scala:65)\u001b[0m\n",
            "\u001b[34m2020-02-11 13:46:06.595-0500\u001b[0m  \u001b[36minfo\u001b[0m [\u001b[37mPleiadesDataSource\u001b[0m] \u001b[36mLoading Pleiades name data...\u001b[0m  \u001b[34m- (PleiadesDataSource.scala:28)\u001b[0m\n",
            "\u001b[34m2020-02-11 13:46:07.869-0500\u001b[0m  \u001b[36minfo\u001b[0m [\u001b[37mPleiadesNames\u001b[0m] \u001b[36mParsing 32810 pleiades name records.\u001b[0m  \u001b[34m- (PleiadesNames.scala:39)\u001b[0m\n",
            "\u001b[34m2020-02-11 13:46:08.123-0500\u001b[0m  \u001b[36minfo\u001b[0m [\u001b[37mPleiadesNames\u001b[0m] \u001b[36mSuccessfully parsed  32810 names records.\u001b[0m  \u001b[34m- (PleiadesNames.scala:48)\u001b[0m\n"
          ]
        },
        {
          "output_type": "execute_result",
          "execution_count": 9,
          "data": {
            "text/plain": [
              "\u001b[32mimport \u001b[39m\u001b[36medu.holycross.shot.pleiades._\n",
              "\u001b[39m\n",
              "\u001b[36mpleiades\u001b[39m: \u001b[32mPleiades\u001b[39m = \u001b[33mPleiades\u001b[39m(\n",
              "  \u001b[33mPleiadesPlaces\u001b[39m(\n",
              "    \u001b[33mVector\u001b[39m(\n",
              "      \u001b[33mPleiadesPlace\u001b[39m(\n",
              "        48210386,\n",
              "        \u001b[32m\"A major urban sanctuary at Vulci with a long period of use, stretching from the archaic period into the Roman period.\"\u001b[39m,\n",
              "        \u001b[33mSome\u001b[39m(\u001b[33mGeoPoint\u001b[39m(42.4193742, 11.6285463))\n",
              "      ),\n",
              "      \u001b[33mPleiadesPlace\u001b[39m(\n",
              "        265876,\n",
              "        \u001b[32m\"An ancient settlement, likely of Celtic origin, located near Consuegra south of Toledo.\"\u001b[39m,\n",
              "        \u001b[33mSome\u001b[39m(\u001b[33mGeoPoint\u001b[39m(39.460299, -3.606772))\n",
              "      ),\n",
              "      \u001b[33mPleiadesPlace\u001b[39m(\n",
              "        265877,\n",
              "        \u001b[32m\"Contestania was a region located in the southwest of Hispania Tarraconensis.\"\u001b[39m,\n",
              "        \u001b[33mSome\u001b[39m(\u001b[33mGeoPoint\u001b[39m(38.988847, -0.515639))\n",
              "      ),\n",
              "      \u001b[33mPleiadesPlace\u001b[39m(\n",
              "        265878,\n",
              "        \u001b[32m\"An ancient place, cited: BAtlas 27 C4 Cueva de la Paloma\"\u001b[39m,\n",
              "        \u001b[33mSome\u001b[39m(\u001b[33mGeoPoint\u001b[39m(37.241792, -2.403309))\n",
              "      ),\n",
              "      \u001b[33mPleiadesPlace\u001b[39m(\n",
              "        265880,\n",
              "        \u001b[32m\"An ancient place, cited: BAtlas 27 F3 Dianium/Hemeroskopeion\"\u001b[39m,\n",
              "        \u001b[33mSome\u001b[39m(\u001b[33mGeoPoint\u001b[39m(38.842795, 0.107511))\n",
              "      ),\n",
              "      \u001b[33mPleiadesPlace\u001b[39m(\n",
              "        265882,\n",
              "        \u001b[32m\"An ancient place, cited: BAtlas 27 B4 Ebura\"\u001b[39m,\n",
              "        \u001b[33mSome\u001b[39m(\u001b[33mGeoPoint\u001b[39m(37.463838, -3.924959))\n",
              "      ),\n",
              "      \u001b[33mPleiadesPlace\u001b[39m(\n",
              "        265883,\n",
              "        \u001b[32m\"An ancient place, cited: BAtlas 27 G3 Ebusus\"\u001b[39m,\n",
              "..."
            ]
          },
          "metadata": {}
        }
      ],
      "execution_count": 9,
      "metadata": {
        "collapsed": false,
        "jupyter": {
          "source_hidden": false,
          "outputs_hidden": false
        },
        "nteract": {
          "transient": {
            "deleting": false
          }
        }
      }
    },
    {
      "cell_type": "code",
      "source": [
        "val spotsWithGeo = findSpots1.map(b=> (b, pleiades.lookupName(b.findSpot)))"
      ],
      "outputs": [
        {
          "output_type": "execute_result",
          "execution_count": 26,
          "data": {
            "text/plain": [
              "\u001b[36mspotsWithGeo\u001b[39m: \u001b[32mVector\u001b[39m[(\u001b[32mBeazley\u001b[39m, \u001b[32mVector\u001b[39m[\u001b[32mPleiadesPlace\u001b[39m])] = \u001b[33mVector\u001b[39m(\n",
              "  (\n",
              "    \u001b[33mBeazley\u001b[39m(\n",
              "      \u001b[32m\"Achilles Painter\"\u001b[39m,\n",
              "      \u001b[32m\"187\"\u001b[39m,\n",
              "      \u001b[32m\"Athens Vlasto\"\u001b[39m,\n",
              "      \u001b[32m\"white lekythos\"\u001b[39m,\n",
              "      \u001b[32m\"Kitsi\"\u001b[39m,\n",
              "      \u001b[32m\"youth and woman at tomb\"\u001b[39m\n",
              "    ),\n",
              "    \u001b[33mVector\u001b[39m()\n",
              "  ),\n",
              "  (\n",
              "    \u001b[33mBeazley\u001b[39m(\n",
              "      \u001b[32m\"Achilles Painter\"\u001b[39m,\n",
              "      \u001b[32m\"188\"\u001b[39m,\n",
              "      \u001b[32m\"Washington 330657\"\u001b[39m,\n",
              "      \u001b[32m\"the upper half of the vase remains. white lekythos\"\u001b[39m,\n",
              "      \u001b[32m\"Karouzou Philippaki\"\u001b[39m,\n",
              "      \u001b[32m\"youth and woman\"\u001b[39m\n",
              "    ),\n",
              "    \u001b[33mVector\u001b[39m()\n",
              "  ),\n",
              "  (\n",
              "    \u001b[33mBeazley\u001b[39m(\n",
              "      \u001b[32m\"Achilles Painter\"\u001b[39m,\n",
              "      \u001b[32m\"189\"\u001b[39m,\n",
              "      \u001b[32m\"Oxford\"\u001b[39m,\n",
              "      \u001b[32m\"white lekythos\"\u001b[39m,\n",
              "      \u001b[32m\"Greece\"\u001b[39m,\n",
              "      \u001b[32m\"youth with spear and woman holding helmet\"\u001b[39m\n",
              "    ),\n",
              "    \u001b[33mVector\u001b[39m()\n",
              "  ),\n",
              "  (\n",
              "    \u001b[33mBeazley\u001b[39m(\n",
              "      \u001b[32m\"Achilles Painter\"\u001b[39m,\n",
              "      \u001b[32m\"192\"\u001b[39m,\n",
              "      \u001b[32m\"Oxford 1947.24\"\u001b[39m,\n",
              "..."
            ]
          },
          "metadata": {}
        }
      ],
      "execution_count": 26,
      "metadata": {
        "collapsed": false,
        "jupyter": {
          "source_hidden": false,
          "outputs_hidden": false
        },
        "nteract": {
          "transient": {
            "deleting": false
          }
        }
      }
    },
    {
      "cell_type": "code",
      "source": [
        "val oneSite = spotsWithGeo.filter(g => g._2.size == o1)"
      ],
      "outputs": [
        {
          "output_type": "execute_result",
          "execution_count": 28,
          "data": {
            "text/plain": [
              "\u001b[36moneSite\u001b[39m: \u001b[32mVector\u001b[39m[(\u001b[32mBeazley\u001b[39m, \u001b[32mVector\u001b[39m[\u001b[32mPleiadesPlace\u001b[39m])] = \u001b[33mVector\u001b[39m(\n",
              "  (\n",
              "    \u001b[33mBeazley\u001b[39m(\n",
              "      \u001b[32m\"Achilles Painter\"\u001b[39m,\n",
              "      \u001b[32m\"201\"\u001b[39m,\n",
              "      \u001b[32m\"London D 51\"\u001b[39m,\n",
              "      \u001b[32m\"white lekythos\"\u001b[39m,\n",
              "      \u001b[32m\"Marion\"\u001b[39m,\n",
              "      \u001b[32m\"warrior and woman\"\u001b[39m\n",
              "    ),\n",
              "    \u001b[33mVector\u001b[39m(\n",
              "      \u001b[33mPleiadesPlace\u001b[39m(\n",
              "        707574,\n",
              "        \u001b[32m\"An ancient place, cited: BAtlas 72 A2 Marion\"\u001b[39m,\n",
              "        \u001b[33mSome\u001b[39m(\u001b[33mGeoPoint\u001b[39m(35.037245, 32.436032))\n",
              "      )\n",
              "    )\n",
              "  ),\n",
              "  (\n",
              "    \u001b[33mBeazley\u001b[39m(\n",
              "      \u001b[32m\"Achilles Painter\"\u001b[39m,\n",
              "      \u001b[32m\"202\"\u001b[39m,\n",
              "      \u001b[32m\"Bologna PU 362\"\u001b[39m,\n",
              "      \u001b[32m\"white lekythos\"\u001b[39m,\n",
              "      \u001b[32m\"Athens\"\u001b[39m,\n",
              "      \u001b[32m\"woman with small cithara and woman\"\u001b[39m\n",
              "    ),\n",
              "    \u001b[33mVector\u001b[39m(\n",
              "      \u001b[33mPleiadesPlace\u001b[39m(\n",
              "        579885,\n",
              "        \u001b[32m\"A major Greek city-state and the principal city of Attika. Modern Athens in Greece.\"\u001b[39m,\n",
              "        \u001b[33mSome\u001b[39m(\u001b[33mGeoPoint\u001b[39m(37.9728191495, 23.7237438519))\n",
              "      )\n",
              "    )\n",
              "  ),\n",
              "  (\n",
              "    \u001b[33mBeazley\u001b[39m(\n",
              "      \u001b[32m\"Achilles Painter\"\u001b[39m,\n",
              "..."
            ]
          },
          "metadata": {}
        }
      ],
      "execution_count": 28,
      "metadata": {
        "collapsed": false,
        "jupyter": {
          "source_hidden": false,
          "outputs_hidden": false
        },
        "nteract": {
          "transient": {
            "deleting": false
          }
        }
      }
    },
    {
      "cell_type": "code",
      "source": [
        "oneSite.size"
      ],
      "outputs": [],
      "execution_count": null,
      "metadata": {
        "collapsed": false,
        "jupyter": {
          "source_hidden": false,
          "outputs_hidden": false
        },
        "nteract": {
          "transient": {
            "deleting": false
          }
        }
      }
    }
  ],
  "metadata": {
    "kernelspec": {
      "display_name": "Scala (2.12)",
      "language": "scala",
      "name": "scala212"
    },
    "language_info": {
      "name": "scala",
      "version": "2.12.10",
      "mimetype": "text/x-scala",
      "file_extension": ".scala",
      "nbconvert_exporter": "script",
      "codemirror_mode": "text/x-scala"
    },
    "nteract": {
      "version": "0.21.0"
    }
  },
  "nbformat": 4,
  "nbformat_minor": 4
}