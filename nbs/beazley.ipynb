{
 "cells": [
  {
   "cell_type": "markdown",
   "metadata": {},
   "source": [
    "# Data modelling with case classes\n",
    "\n",
    "- painter\n",
    "- beazley number\n",
    "- museum ID\n",
    "- shape\n",
    "- find spot\n",
    "- subject description\n",
    "- Pleiades ID\n"
   ]
  },
  {
   "cell_type": "code",
   "execution_count": 2,
   "metadata": {},
   "outputs": [
    {
     "data": {
      "text/plain": [
       "defined \u001b[32mclass\u001b[39m \u001b[36mBeazley\u001b[39m"
      ]
     },
     "execution_count": 2,
     "metadata": {},
     "output_type": "execute_result"
    }
   ],
   "source": [
    "case class Beazley(painter: String, \n",
    "                   beazley: String, \n",
    "                   museum: String, \n",
    "                   shape: String,\n",
    "                   findSpot: String, \n",
    "                   subject: String)"
   ]
  },
  {
   "cell_type": "code",
   "execution_count": 4,
   "metadata": {},
   "outputs": [
    {
     "data": {
      "text/plain": [
       "\u001b[36msophilos1\u001b[39m: \u001b[32mBeazley\u001b[39m = \u001b[33mBeazley\u001b[39m(\n",
       "  \u001b[32m\"Sophilos\"\u001b[39m,\n",
       "  \u001b[32m\"1\"\u001b[39m,\n",
       "  \u001b[32m\"Athens 991\"\u001b[39m,\n",
       "  \u001b[32m\"Neck-amphora; slender; long-necked: loutrophoros\"\u001b[39m,\n",
       "  \u001b[32m\"Vourva\"\u001b[39m,\n",
       "  \u001b[32m\"Three rows of animals on the body. Middle row: litany of animals. Upper: two rows of animals\"\u001b[39m\n",
       ")"
      ]
     },
     "execution_count": 4,
     "metadata": {},
     "output_type": "execute_result"
    }
   ],
   "source": [
    "val sophilos1 = Beazley(\"Sophilos\", \"1\", \n",
    "                        \"Athens 991\", \n",
    "                        \"Neck-amphora; slender; long-necked: loutrophoros\",\n",
    "                        \"Vourva\",\n",
    "                        \"Three rows of animals on the body. Middle row: litany of animals. Upper: two rows of animals\"\n",
    "                        )\n"
   ]
  },
  {
   "cell_type": "code",
   "execution_count": 6,
   "metadata": {},
   "outputs": [
    {
     "data": {
      "text/plain": [
       "\u001b[36mres5_0\u001b[39m: \u001b[32mString\u001b[39m = \u001b[32m\"Athens 991\"\u001b[39m\n",
       "\u001b[36mres5_1\u001b[39m: \u001b[32mString\u001b[39m = \u001b[32m\"Vourva\"\u001b[39m"
      ]
     },
     "execution_count": 6,
     "metadata": {},
     "output_type": "execute_result"
    }
   ],
   "source": [
    "sophilos1.museum\n",
    "sophilos1.findSpot"
   ]
  },
  {
   "cell_type": "code",
   "execution_count": 8,
   "metadata": {},
   "outputs": [
    {
     "data": {
      "text/plain": [
       "defined \u001b[32mfunction\u001b[39m \u001b[36mbeazleyParser\u001b[39m"
      ]
     },
     "execution_count": 8,
     "metadata": {},
     "output_type": "execute_result"
    }
   ],
   "source": [
    "def beazleyParser(delimitedText: String): Beazley = {\n",
    "  val cols = delimitedText.split(\"#\")\n",
    "  cols.size match {\n",
    "    case bad if (bad < 6) => throw new Exception(\"Too few columns found in delimited text source: only \" + cols.size + \" columns in:\\n\" + delimitedText)\n",
    "\n",
    "    case _  => {\n",
    "      val painter = cols(0).trim\n",
    "      val beazley = cols(1).trim\n",
    "      val museum = cols(2).trim\n",
    "      val shape = cols(3).trim\n",
    "      val site = cols(4).trim\n",
    "      val subject = cols(5).trim\n",
    "      Beazley(painter, beazley, museum, shape, site, subject)\n",
    "    }\n",
    "  }\n",
    "}"
   ]
  },
  {
   "cell_type": "code",
   "execution_count": 9,
   "metadata": {},
   "outputs": [
    {
     "data": {
      "text/plain": [
       "\u001b[36mdelimitedLine\u001b[39m: \u001b[32mString\u001b[39m = \u001b[32m\"Sophilos#2# Athens 1036# Neck-amphora long-necked less slender# Marathon# Four rows on body depicting animals and Hermes\"\u001b[39m\n",
       "\u001b[36mres8_1\u001b[39m: \u001b[32mBeazley\u001b[39m = \u001b[33mBeazley\u001b[39m(\n",
       "  \u001b[32m\"Sophilos\"\u001b[39m,\n",
       "  \u001b[32m\"2\"\u001b[39m,\n",
       "  \u001b[32m\"Athens 1036\"\u001b[39m,\n",
       "  \u001b[32m\"Neck-amphora long-necked less slender\"\u001b[39m,\n",
       "  \u001b[32m\"Marathon\"\u001b[39m,\n",
       "  \u001b[32m\"Four rows on body depicting animals and Hermes\"\u001b[39m\n",
       ")"
      ]
     },
     "execution_count": 9,
     "metadata": {},
     "output_type": "execute_result"
    }
   ],
   "source": [
    "val delimitedLine = \"Sophilos#2# Athens 1036# Neck-amphora long-necked less slender# Marathon# Four rows on body depicting animals and Hermes\"\n",
    "beazleyParser(delimitedLine)"
   ]
  },
  {
   "cell_type": "code",
   "execution_count": 12,
   "metadata": {},
   "outputs": [
    {
     "data": {
      "text/plain": [
       "\u001b[36msourceUrl\u001b[39m: \u001b[32mString\u001b[39m = \u001b[32m\"https://raw.githubusercontent.com/neelsmith/arch-data-analysis-ipynb/master/data/composite.cex\"\u001b[39m\n",
       "\u001b[32mimport \u001b[39m\u001b[36mscala.io._\n",
       "\n",
       "\u001b[39m\n",
       "\u001b[36mlines\u001b[39m: \u001b[32mVector\u001b[39m[\u001b[32mString\u001b[39m] = \u001b[33mVector\u001b[39m(\n",
       "  \u001b[32m\"Painter#BeazleyNumber#MuseumID#shape#findspot#comments#pleiadesId#\"\u001b[39m,\n",
       "  \u001b[32m\"Achilles Painter#186#was in the Boston Museum but only on loan#white lekythos# #mistress and maid# #\"\u001b[39m,\n",
       "  \u001b[32m\"Achilles Painter#187#Athens Vlasto#white lekythos#Kitsi#youth and woman at tomb#579885#\"\u001b[39m,\n",
       "  \u001b[32m\"Achilles Painter#188#Washington 330657#the upper half of the vase remains. white lekythos#Karouzou Philippaki#youth and woman# #\"\u001b[39m,\n",
       "  \u001b[32m\"Achilles Painter#189#Oxford#white lekythos#Greece#youth with spear and woman holding helmet# #\"\u001b[39m,\n",
       "  \u001b[32m\"Achilles Painter#190#Munich#white lekythos# # ##\"\u001b[39m,\n",
       "  \u001b[32m\"Achilles Painter#191#Lond Victoria and Albert Museum#white lekythos# #two youths at tomb# #\"\u001b[39m,\n",
       "  \u001b[32m\"Achilles Painter#192#Oxford 1947.24#white lekythos#Greece#youth and woman at tomb# #\"\u001b[39m,\n",
       "  \u001b[32m\"Achilles Painter#193#London D 54#white lekythos#Eretria#two youths at tomb#579925#\"\u001b[39m,\n",
       "  \u001b[32m\"Achilles Painter#194#London D 55#white lekythos#Eretria#youth and woman#579925#\"\u001b[39m,\n",
       "  \u001b[32m\"Achilles Painter#195#Oxford 266#shoulder neck and mouth of the vase are alien. white lekythos#Gela#woman seated with small cithara and woman with lyre#462215#\"\u001b[39m,\n",
       "  \u001b[32m\"Achilles Painter#196#Oxford#white lekythos#Liopesi#back and right arm of the left-handed figure a woman with the back of her head# #\"\u001b[39m,\n",
       "  \u001b[32m\"Achilles Painter#197#Rouen#white lekythos# #mistress and maid# #\"\u001b[39m,\n",
       "  \u001b[32m\"Achilles Painter#198#Cracow University inv. 14180#white lekythos#Greece#two women mistress adn maid# #\"\u001b[39m,\n",
       "  \u001b[32m\"Achilles Painter#199#Chicago 07.20#white lekythos# #touth and old man# #\"\u001b[39m,\n",
       "  \u001b[32m\"Achilles Painter#200#Amiens 3057.172.33#white lekythos# #man and woman at tomb# #\"\u001b[39m,\n",
       "  \u001b[32m\"Achilles Painter#201#London D 51#white lekythos#Marion#warrior and woman#707574#\"\u001b[39m,\n",
       "  \u001b[32m\"Achilles Painter#202#Bologna PU 362#white lekythos#Athens#woman with small cithara and woman#579885#\"\u001b[39m,\n",
       "  \u001b[32m\"Achilles Painter#203#Leningrad 936#white lekythos# #mistress and maid (woman with basket of sashes woman frontal)# #\"\u001b[39m,\n",
       "  \u001b[32m\"Achilles Painter#204#New York 54.11.7#white lekythos# #mistress and maid (woman standing to right holding a garmet rolled up girl standing to left ready to take it# #\"\u001b[39m,\n",
       "..."
      ]
     },
     "execution_count": 12,
     "metadata": {},
     "output_type": "execute_result"
    }
   ],
   "source": [
    "val sourceUrl = \"https://raw.githubusercontent.com/neelsmith/arch-data-analysis-ipynb/master/data/composite.cex\"\n",
    "\n",
    "import scala.io._\n",
    "\n",
    "val lines = Source.fromURL(sourceUrl).getLines.toVector.map(ln => ln.replaceAll(\"##\", \"# #\")\n",
    "                                                           \n",
    "                                                           )"
   ]
  },
  {
   "cell_type": "code",
   "execution_count": 14,
   "metadata": {
    "collapsed": true
   },
   "outputs": [
    {
     "data": {
      "text/plain": [
       "\u001b[36mbeazleys\u001b[39m: \u001b[32mVector\u001b[39m[\u001b[32mBeazley\u001b[39m] = \u001b[33mVector\u001b[39m(\n",
       "  \u001b[33mBeazley\u001b[39m(\n",
       "    \u001b[32m\"Achilles Painter\"\u001b[39m,\n",
       "    \u001b[32m\"186\"\u001b[39m,\n",
       "    \u001b[32m\"was in the Boston Museum but only on loan\"\u001b[39m,\n",
       "    \u001b[32m\"white lekythos\"\u001b[39m,\n",
       "    \u001b[32m\"\"\u001b[39m,\n",
       "    \u001b[32m\"mistress and maid\"\u001b[39m\n",
       "  ),\n",
       "  \u001b[33mBeazley\u001b[39m(\n",
       "    \u001b[32m\"Achilles Painter\"\u001b[39m,\n",
       "    \u001b[32m\"187\"\u001b[39m,\n",
       "    \u001b[32m\"Athens Vlasto\"\u001b[39m,\n",
       "    \u001b[32m\"white lekythos\"\u001b[39m,\n",
       "    \u001b[32m\"Kitsi\"\u001b[39m,\n",
       "    \u001b[32m\"youth and woman at tomb\"\u001b[39m\n",
       "  ),\n",
       "  \u001b[33mBeazley\u001b[39m(\n",
       "    \u001b[32m\"Achilles Painter\"\u001b[39m,\n",
       "    \u001b[32m\"188\"\u001b[39m,\n",
       "    \u001b[32m\"Washington 330657\"\u001b[39m,\n",
       "    \u001b[32m\"the upper half of the vase remains. white lekythos\"\u001b[39m,\n",
       "    \u001b[32m\"Karouzou Philippaki\"\u001b[39m,\n",
       "    \u001b[32m\"youth and woman\"\u001b[39m\n",
       "  ),\n",
       "  \u001b[33mBeazley\u001b[39m(\n",
       "    \u001b[32m\"Achilles Painter\"\u001b[39m,\n",
       "    \u001b[32m\"189\"\u001b[39m,\n",
       "    \u001b[32m\"Oxford\"\u001b[39m,\n",
       "    \u001b[32m\"white lekythos\"\u001b[39m,\n",
       "    \u001b[32m\"Greece\"\u001b[39m,\n",
       "    \u001b[32m\"youth with spear and woman holding helmet\"\u001b[39m\n",
       "  ),\n",
       "  \u001b[33mBeazley\u001b[39m(\u001b[32m\"Achilles Painter\"\u001b[39m, \u001b[32m\"190\"\u001b[39m, \u001b[32m\"Munich\"\u001b[39m, \u001b[32m\"white lekythos\"\u001b[39m, \u001b[32m\"\"\u001b[39m, \u001b[32m\"\"\u001b[39m),\n",
       "  \u001b[33mBeazley\u001b[39m(\n",
       "    \u001b[32m\"Achilles Painter\"\u001b[39m,\n",
       "    \u001b[32m\"191\"\u001b[39m,\n",
       "    \u001b[32m\"Lond Victoria and Albert Museum\"\u001b[39m,\n",
       "    \u001b[32m\"white lekythos\"\u001b[39m,\n",
       "..."
      ]
     },
     "execution_count": 14,
     "metadata": {},
     "output_type": "execute_result"
    }
   ],
   "source": [
    "val beazleys = lines.tail.map(ln => beazleyParser(ln))"
   ]
  },
  {
   "cell_type": "code",
   "execution_count": 19,
   "metadata": {},
   "outputs": [
    {
     "data": {
      "text/plain": [
       "\u001b[36mres18_0\u001b[39m: \u001b[32mInt\u001b[39m = \u001b[32m351\u001b[39m\n",
       "\u001b[36mfindSpots1\u001b[39m: \u001b[32mVector\u001b[39m[\u001b[32mBeazley\u001b[39m] = \u001b[33mVector\u001b[39m(\n",
       "  \u001b[33mBeazley\u001b[39m(\n",
       "    \u001b[32m\"Achilles Painter\"\u001b[39m,\n",
       "    \u001b[32m\"187\"\u001b[39m,\n",
       "    \u001b[32m\"Athens Vlasto\"\u001b[39m,\n",
       "    \u001b[32m\"white lekythos\"\u001b[39m,\n",
       "    \u001b[32m\"Kitsi\"\u001b[39m,\n",
       "    \u001b[32m\"youth and woman at tomb\"\u001b[39m\n",
       "  ),\n",
       "  \u001b[33mBeazley\u001b[39m(\n",
       "    \u001b[32m\"Achilles Painter\"\u001b[39m,\n",
       "    \u001b[32m\"188\"\u001b[39m,\n",
       "    \u001b[32m\"Washington 330657\"\u001b[39m,\n",
       "    \u001b[32m\"the upper half of the vase remains. white lekythos\"\u001b[39m,\n",
       "    \u001b[32m\"Karouzou Philippaki\"\u001b[39m,\n",
       "    \u001b[32m\"youth and woman\"\u001b[39m\n",
       "  ),\n",
       "  \u001b[33mBeazley\u001b[39m(\n",
       "    \u001b[32m\"Achilles Painter\"\u001b[39m,\n",
       "    \u001b[32m\"189\"\u001b[39m,\n",
       "    \u001b[32m\"Oxford\"\u001b[39m,\n",
       "    \u001b[32m\"white lekythos\"\u001b[39m,\n",
       "    \u001b[32m\"Greece\"\u001b[39m,\n",
       "    \u001b[32m\"youth with spear and woman holding helmet\"\u001b[39m\n",
       "  ),\n",
       "  \u001b[33mBeazley\u001b[39m(\n",
       "    \u001b[32m\"Achilles Painter\"\u001b[39m,\n",
       "    \u001b[32m\"192\"\u001b[39m,\n",
       "    \u001b[32m\"Oxford 1947.24\"\u001b[39m,\n",
       "    \u001b[32m\"white lekythos\"\u001b[39m,\n",
       "    \u001b[32m\"Greece\"\u001b[39m,\n",
       "    \u001b[32m\"youth and woman at tomb\"\u001b[39m\n",
       "  ),\n",
       "  \u001b[33mBeazley\u001b[39m(\n",
       "    \u001b[32m\"Achilles Painter\"\u001b[39m,\n",
       "    \u001b[32m\"193\"\u001b[39m,\n",
       "    \u001b[32m\"London D 54\"\u001b[39m,\n",
       "    \u001b[32m\"white lekythos\"\u001b[39m,\n",
       "    \u001b[32m\"Eretria\"\u001b[39m,\n",
       "...\n",
       "\u001b[36mres18_2\u001b[39m: \u001b[32mInt\u001b[39m = \u001b[32m73\u001b[39m"
      ]
     },
     "execution_count": 19,
     "metadata": {},
     "output_type": "execute_result"
    }
   ],
   "source": [
    "beazleys.size\n",
    "val findSpots1 = beazleys.filter(beaz => beaz.findSpot.nonEmpty)\n"
   ]
  },
  {
   "cell_type": "code",
   "execution_count": 23,
   "metadata": {},
   "outputs": [
    {
     "name": "stdout",
     "output_type": "stream",
     "text": [
      "?\n",
      "Aegina\n",
      "Athens\n",
      "Athens Market\n",
      "Auction xvi Basle 30.124\n",
      "Berlin\n",
      "Bologna\n",
      "Cape Zoster\n",
      "Cerverti\n",
      "Cerveteri\n",
      "Cervetri\n",
      "Chiusi\n",
      "Delphi\n",
      "Egypt\n",
      "Eretria\n",
      "Etruria\n",
      "Fairbanks\n",
      "Falerii\n",
      "Farmavoski\n",
      "Fratte\n",
      "Gela\n",
      "Gela Sicily\n",
      "Gela-Sicily\n",
      "Gerhard pl.162\n",
      "Greece\n",
      "Izmir\n",
      "Kalyvia\n",
      "Karouzou Philippaki\n",
      "Keratea\n",
      "Kerch\n",
      "Kitsi\n",
      "Koropi\n",
      "Laurion\n",
      "Lindos\n",
      "Liopesi\n",
      "Magna Graecia\n",
      "Marathon\n",
      "Marion\n",
      "Menidi\n",
      "N/A\n",
      "Naucratis\n",
      "Nepi\n",
      "Newcastle upon Tyne\n",
      "Nola\n",
      "Orvieto\n",
      "Padula\n",
      "Pharsalos\n",
      "Rome\n",
      "Selinus\n",
      "South Italy\n",
      "Spina\n",
      "Stockholm\n",
      "Suessula\n",
      "Taranto\n",
      "Tarquinia\n",
      "Unknown\n",
      "Vari\n",
      "Veii\n",
      "Villa giulia\n",
      "Vourva\n",
      "Vulci\n",
      "Zervos\n",
      "coll.Bougard\n",
      "from Athens\n",
      "from Eretria\n",
      "from Gela\n",
      "from Hanai Tepe in the Troad\n",
      "from Italy.\n",
      "from Locri\n",
      "from Pikrodafni.\n",
      "none\n",
      "uknown\n",
      "x\n"
     ]
    }
   ],
   "source": [
    "println(findSpots1.map(b=>b.findSpot).distinct.sorted.mkString(\"\\n\"))"
   ]
  }
 ],
 "metadata": {
  "kernelspec": {
   "display_name": "Scala (2.12)",
   "language": "scala",
   "name": "scala212"
  },
  "language_info": {
   "codemirror_mode": "text/x-scala",
   "file_extension": ".scala",
   "mimetype": "text/x-scala",
   "name": "scala",
   "nbconvert_exporter": "script",
   "version": "2.12.10"
  }
 },
 "nbformat": 4,
 "nbformat_minor": 4
}
